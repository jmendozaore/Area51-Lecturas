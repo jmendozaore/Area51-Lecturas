{
  "nbformat": 4,
  "nbformat_minor": 0,
  "metadata": {
    "colab": {
      "name": "Ejemplo3ML.ipynb",
      "provenance": [],
      "collapsed_sections": [],
      "include_colab_link": true
    },
    "kernelspec": {
      "name": "python3",
      "display_name": "Python 3"
    }
  },
  "cells": [
    {
      "cell_type": "markdown",
      "metadata": {
        "id": "view-in-github",
        "colab_type": "text"
      },
      "source": [
        "<a href=\"https://colab.research.google.com/github/jmendozaore/Area51-Lecturas/blob/master/Ejemplo3ML.ipynb\" target=\"_parent\"><img src=\"https://colab.research.google.com/assets/colab-badge.svg\" alt=\"Open In Colab\"/></a>"
      ]
    },
    {
      "cell_type": "code",
      "metadata": {
        "id": "NKlnWB1Tzbn6",
        "colab_type": "code",
        "colab": {}
      },
      "source": [
        "import pandas as pd\n",
        "import numpy as np"
      ],
      "execution_count": 0,
      "outputs": []
    },
    {
      "cell_type": "code",
      "metadata": {
        "id": "KkvF9vGezqfJ",
        "colab_type": "code",
        "outputId": "ff8255d8-2ac8-4b4d-be36-8defe157a76d",
        "colab": {
          "base_uri": "https://localhost:8080/",
          "height": 309
        }
      },
      "source": [
        "pelis = pd.read_csv(\"datos_peliculas.csv\")\n",
        "pelis.shape\n",
        "pelis.head()"
      ],
      "execution_count": 0,
      "outputs": [
        {
          "output_type": "execute_result",
          "data": {
            "text/html": [
              "<div>\n",
              "<style scoped>\n",
              "    .dataframe tbody tr th:only-of-type {\n",
              "        vertical-align: middle;\n",
              "    }\n",
              "\n",
              "    .dataframe tbody tr th {\n",
              "        vertical-align: top;\n",
              "    }\n",
              "\n",
              "    .dataframe thead th {\n",
              "        text-align: right;\n",
              "    }\n",
              "</style>\n",
              "<table border=\"1\" class=\"dataframe\">\n",
              "  <thead>\n",
              "    <tr style=\"text-align: right;\">\n",
              "      <th></th>\n",
              "      <th>pelicula</th>\n",
              "      <th>año</th>\n",
              "      <th>ratings</th>\n",
              "      <th>genero</th>\n",
              "      <th>ventas</th>\n",
              "      <th>presupuesto</th>\n",
              "      <th>secuela</th>\n",
              "      <th>vistas_youtube</th>\n",
              "      <th>positivos_youtube</th>\n",
              "      <th>negativos_youtube</th>\n",
              "      <th>comentarios</th>\n",
              "      <th>seguidores_agregados</th>\n",
              "    </tr>\n",
              "  </thead>\n",
              "  <tbody>\n",
              "    <tr>\n",
              "      <th>0</th>\n",
              "      <td>13 Sins</td>\n",
              "      <td>2014</td>\n",
              "      <td>6.3</td>\n",
              "      <td>8</td>\n",
              "      <td>9130</td>\n",
              "      <td>4000000.0</td>\n",
              "      <td>1</td>\n",
              "      <td>3280543</td>\n",
              "      <td>4632</td>\n",
              "      <td>425</td>\n",
              "      <td>636</td>\n",
              "      <td>1120000.0</td>\n",
              "    </tr>\n",
              "    <tr>\n",
              "      <th>1</th>\n",
              "      <td>22 Jump Street</td>\n",
              "      <td>2014</td>\n",
              "      <td>7.1</td>\n",
              "      <td>1</td>\n",
              "      <td>192000000</td>\n",
              "      <td>50000000.0</td>\n",
              "      <td>2</td>\n",
              "      <td>583289</td>\n",
              "      <td>3465</td>\n",
              "      <td>61</td>\n",
              "      <td>186</td>\n",
              "      <td>12350000.0</td>\n",
              "    </tr>\n",
              "    <tr>\n",
              "      <th>2</th>\n",
              "      <td>3 Days to Kill</td>\n",
              "      <td>2014</td>\n",
              "      <td>6.2</td>\n",
              "      <td>1</td>\n",
              "      <td>30700000</td>\n",
              "      <td>28000000.0</td>\n",
              "      <td>1</td>\n",
              "      <td>304861</td>\n",
              "      <td>328</td>\n",
              "      <td>34</td>\n",
              "      <td>47</td>\n",
              "      <td>483000.0</td>\n",
              "    </tr>\n",
              "    <tr>\n",
              "      <th>3</th>\n",
              "      <td>300: Rise of an Empire</td>\n",
              "      <td>2014</td>\n",
              "      <td>6.3</td>\n",
              "      <td>1</td>\n",
              "      <td>106000000</td>\n",
              "      <td>110000000.0</td>\n",
              "      <td>2</td>\n",
              "      <td>452917</td>\n",
              "      <td>2429</td>\n",
              "      <td>132</td>\n",
              "      <td>590</td>\n",
              "      <td>568000.0</td>\n",
              "    </tr>\n",
              "    <tr>\n",
              "      <th>4</th>\n",
              "      <td>A Haunted House 2</td>\n",
              "      <td>2014</td>\n",
              "      <td>4.7</td>\n",
              "      <td>8</td>\n",
              "      <td>17300000</td>\n",
              "      <td>3500000.0</td>\n",
              "      <td>2</td>\n",
              "      <td>3145573</td>\n",
              "      <td>12163</td>\n",
              "      <td>610</td>\n",
              "      <td>1082</td>\n",
              "      <td>1923800.0</td>\n",
              "    </tr>\n",
              "  </tbody>\n",
              "</table>\n",
              "</div>"
            ],
            "text/plain": [
              "                 pelicula   año  ...  comentarios  seguidores_agregados\n",
              "0                 13 Sins  2014  ...          636             1120000.0\n",
              "1          22 Jump Street  2014  ...          186            12350000.0\n",
              "2          3 Days to Kill  2014  ...           47              483000.0\n",
              "3  300: Rise of an Empire  2014  ...          590              568000.0\n",
              "4       A Haunted House 2  2014  ...         1082             1923800.0\n",
              "\n",
              "[5 rows x 12 columns]"
            ]
          },
          "metadata": {
            "tags": []
          },
          "execution_count": 12
        }
      ]
    },
    {
      "cell_type": "code",
      "metadata": {
        "id": "iwE-RIcNz3-7",
        "colab_type": "code",
        "colab": {}
      },
      "source": [
        "from sklearn.neighbors import KNeighborsClassifier\n",
        "from sklearn.model_selection import train_test_split"
      ],
      "execution_count": 0,
      "outputs": []
    },
    {
      "cell_type": "code",
      "metadata": {
        "id": "IL6B3FW81K5N",
        "colab_type": "code",
        "colab": {}
      },
      "source": [
        "variable_objetivo_clasificacion='genero'\n",
        "variable_independientes=pelis.drop(variable_objetivo_clasificacion,axis=1).columns\n",
        "x_train,x_test,y_train,y_test=train_test_split(pelis[variables_independientes],pelis[variable_objetivo_clasificacion], test_size=.3)"
      ],
      "execution_count": 0,
      "outputs": []
    },
    {
      "cell_type": "code",
      "metadata": {
        "id": "KQHVX3N65SI1",
        "colab_type": "code",
        "colab": {}
      },
      "source": [
        "y=pelis[variable_objetivo_clasificacion]\n",
        "x=pelis[variable_independientes].drop('pelicula', axis=1)"
      ],
      "execution_count": 0,
      "outputs": []
    },
    {
      "cell_type": "code",
      "metadata": {
        "id": "5sVBVJxZ21m1",
        "colab_type": "code",
        "colab": {}
      },
      "source": [
        "x_train"
      ],
      "execution_count": 0,
      "outputs": []
    },
    {
      "cell_type": "code",
      "metadata": {
        "id": "57v7n1hl3O8P",
        "colab_type": "code",
        "outputId": "7e1a9949-9a13-4a36-b4cc-3182fdeac597",
        "colab": {
          "base_uri": "https://localhost:8080/",
          "height": 68
        }
      },
      "source": [
        "from sklearn.feature_selection import SelectKBest\n",
        "best=SelectKBest(k=6) # K numnero de variables que contribuyen\n",
        "X_new =best.fit_transform(x,y)\n",
        "X_new.shape\n",
        "selected=best.get_support(indices=True)\n",
        "print(x.columns[selected])\n",
        "selected_feature=x.columns[selected]"
      ],
      "execution_count": 71,
      "outputs": [
        {
          "output_type": "stream",
          "text": [
            "Index(['año', 'ratings', 'ventas', 'presupuesto', 'secuela',\n",
            "       'seguidores_agregados'],\n",
            "      dtype='object')\n"
          ],
          "name": "stdout"
        }
      ]
    },
    {
      "cell_type": "code",
      "metadata": {
        "id": "JbSaW8Jp8X8N",
        "colab_type": "code",
        "colab": {}
      },
      "source": [
        "clasificador_knn=KNeighborsClassifier(n_neighbors=30,weights='uniform')# El numero de \"neighboirs\" como buscar los vecinos mas proximos\n",
        "clasificador_knn.fit(x_train[selected_feature],y_train)\n",
        "preds= clasificador_knn.predict(x_test[selected_feature])"
      ],
      "execution_count": 0,
      "outputs": []
    },
    {
      "cell_type": "code",
      "metadata": {
        "id": "Jx_kQZJd918r",
        "colab_type": "code",
        "colab": {}
      },
      "source": [
        "from sklearn.metrics import f1_score"
      ],
      "execution_count": 0,
      "outputs": []
    },
    {
      "cell_type": "code",
      "metadata": {
        "id": "9_VJMu8wByyO",
        "colab_type": "code",
        "colab": {
          "base_uri": "https://localhost:8080/",
          "height": 34
        },
        "outputId": "b13782fe-5674-40b9-fff3-16dd46584683"
      },
      "source": [
        "f1_score(y_test, preds, average='micro') # debe ser valor cercano a 1, debemos obetener un valor de 55% o mas"
      ],
      "execution_count": 73,
      "outputs": [
        {
          "output_type": "execute_result",
          "data": {
            "text/plain": [
              "0.2903225806451613"
            ]
          },
          "metadata": {
            "tags": []
          },
          "execution_count": 73
        }
      ]
    }
  ]
}