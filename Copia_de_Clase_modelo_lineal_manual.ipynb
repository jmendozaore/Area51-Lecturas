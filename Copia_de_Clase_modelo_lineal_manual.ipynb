{
  "nbformat": 4,
  "nbformat_minor": 0,
  "metadata": {
    "colab": {
      "name": "Copia de Clase_modelo lineal manual.ipynb",
      "provenance": [],
      "collapsed_sections": [],
      "include_colab_link": true
    },
    "kernelspec": {
      "name": "python3",
      "display_name": "Python 3"
    }
  },
  "cells": [
    {
      "cell_type": "markdown",
      "metadata": {
        "id": "view-in-github",
        "colab_type": "text"
      },
      "source": [
        "<a href=\"https://colab.research.google.com/github/jmendozaore/Area51-Lecturas/blob/master/Copia_de_Clase_modelo_lineal_manual.ipynb\" target=\"_parent\"><img src=\"https://colab.research.google.com/assets/colab-badge.svg\" alt=\"Open In Colab\"/></a>"
      ]
    },
    {
      "cell_type": "code",
      "metadata": {
        "id": "DaSAaDajE-s-",
        "colab_type": "code",
        "colab": {}
      },
      "source": [
        "import pandas as pd\n",
        "import numpy as np\n"
      ],
      "execution_count": 0,
      "outputs": []
    },
    {
      "cell_type": "markdown",
      "metadata": {
        "id": "iZsWtQNEGUHX",
        "colab_type": "text"
      },
      "source": [
        "https://www.dataquest.io/blog/sci-kit-learn-tutorial/"
      ]
    },
    {
      "cell_type": "markdown",
      "metadata": {
        "id": "nnwXPTvWHpVa",
        "colab_type": "text"
      },
      "source": [
        "https://scikit-learn.org/stable/tutorial/basic/tutorial.html"
      ]
    },
    {
      "cell_type": "markdown",
      "metadata": {
        "id": "UJR6cTskITtT",
        "colab_type": "text"
      },
      "source": [
        "XG Boost"
      ]
    },
    {
      "cell_type": "code",
      "metadata": {
        "id": "qs6Tz0HNHrkL",
        "colab_type": "code",
        "colab": {}
      },
      "source": [
        "vehiculos=pd.read_csv(\"vehiculos_procesado.csv\", usecols=[\"consumo\",\"co2\",\"cilindros\",\"desplazamiento\"])"
      ],
      "execution_count": 0,
      "outputs": []
    },
    {
      "cell_type": "code",
      "metadata": {
        "id": "ViEMwCtiLCkb",
        "colab_type": "code",
        "colab": {}
      },
      "source": [
        "litros_por_galon=3.78541\n",
        "vehiculos[\"consumo_litros_milla\"] = litros_por_galon / vehiculos.consumo"
      ],
      "execution_count": 0,
      "outputs": []
    },
    {
      "cell_type": "markdown",
      "metadata": {
        "id": "l1yUTUjHPiL9",
        "colab_type": "text"
      },
      "source": [
        "No lee Archivo desde URL, requeires una libreria para leer csv desde un URL"
      ]
    },
    {
      "cell_type": "code",
      "metadata": {
        "id": "HWT748mWMhFY",
        "colab_type": "code",
        "outputId": "4b23004b-9f69-48db-83b6-886f6ba82d9a",
        "colab": {
          "base_uri": "https://localhost:8080/",
          "height": 34
        }
      },
      "source": [
        "vehiculos.shape"
      ],
      "execution_count": 0,
      "outputs": [
        {
          "output_type": "execute_result",
          "data": {
            "text/plain": [
              "(35539, 5)"
            ]
          },
          "metadata": {
            "tags": []
          },
          "execution_count": 36
        }
      ]
    },
    {
      "cell_type": "code",
      "metadata": {
        "id": "-9LWAAeDMTs2",
        "colab_type": "code",
        "outputId": "7a7a3947-5065-416c-8afd-62f941664431",
        "colab": {
          "base_uri": "https://localhost:8080/",
          "height": 204
        }
      },
      "source": [
        "vehiculos.head()"
      ],
      "execution_count": 0,
      "outputs": [
        {
          "output_type": "execute_result",
          "data": {
            "text/html": [
              "<div>\n",
              "<style scoped>\n",
              "    .dataframe tbody tr th:only-of-type {\n",
              "        vertical-align: middle;\n",
              "    }\n",
              "\n",
              "    .dataframe tbody tr th {\n",
              "        vertical-align: top;\n",
              "    }\n",
              "\n",
              "    .dataframe thead th {\n",
              "        text-align: right;\n",
              "    }\n",
              "</style>\n",
              "<table border=\"1\" class=\"dataframe\">\n",
              "  <thead>\n",
              "    <tr style=\"text-align: right;\">\n",
              "      <th></th>\n",
              "      <th>desplazamiento</th>\n",
              "      <th>cilindros</th>\n",
              "      <th>consumo</th>\n",
              "      <th>co2</th>\n",
              "      <th>consumo_litros_milla</th>\n",
              "    </tr>\n",
              "  </thead>\n",
              "  <tbody>\n",
              "    <tr>\n",
              "      <th>0</th>\n",
              "      <td>2.5</td>\n",
              "      <td>4.0</td>\n",
              "      <td>17</td>\n",
              "      <td>522.764706</td>\n",
              "      <td>0.222671</td>\n",
              "    </tr>\n",
              "    <tr>\n",
              "      <th>1</th>\n",
              "      <td>4.2</td>\n",
              "      <td>6.0</td>\n",
              "      <td>13</td>\n",
              "      <td>683.615385</td>\n",
              "      <td>0.291185</td>\n",
              "    </tr>\n",
              "    <tr>\n",
              "      <th>2</th>\n",
              "      <td>2.5</td>\n",
              "      <td>4.0</td>\n",
              "      <td>16</td>\n",
              "      <td>555.437500</td>\n",
              "      <td>0.236588</td>\n",
              "    </tr>\n",
              "    <tr>\n",
              "      <th>3</th>\n",
              "      <td>4.2</td>\n",
              "      <td>6.0</td>\n",
              "      <td>13</td>\n",
              "      <td>683.615385</td>\n",
              "      <td>0.291185</td>\n",
              "    </tr>\n",
              "    <tr>\n",
              "      <th>4</th>\n",
              "      <td>3.8</td>\n",
              "      <td>6.0</td>\n",
              "      <td>16</td>\n",
              "      <td>555.437500</td>\n",
              "      <td>0.236588</td>\n",
              "    </tr>\n",
              "  </tbody>\n",
              "</table>\n",
              "</div>"
            ],
            "text/plain": [
              "   desplazamiento  cilindros  consumo         co2  consumo_litros_milla\n",
              "0             2.5        4.0       17  522.764706              0.222671\n",
              "1             4.2        6.0       13  683.615385              0.291185\n",
              "2             2.5        4.0       16  555.437500              0.236588\n",
              "3             4.2        6.0       13  683.615385              0.291185\n",
              "4             3.8        6.0       16  555.437500              0.236588"
            ]
          },
          "metadata": {
            "tags": []
          },
          "execution_count": 37
        }
      ]
    },
    {
      "cell_type": "code",
      "metadata": {
        "id": "UqCrnzdDMx0j",
        "colab_type": "code",
        "colab": {}
      },
      "source": [
        "pct_entrenamiento=0.8"
      ],
      "execution_count": 0,
      "outputs": []
    },
    {
      "cell_type": "code",
      "metadata": {
        "id": "QEF6equ1M2Uj",
        "colab_type": "code",
        "outputId": "55ae7220-8af4-4b56-b6a4-652ce093a35d",
        "colab": {
          "base_uri": "https://localhost:8080/",
          "height": 34
        }
      },
      "source": [
        "vehiculos_training=vehiculos.sample(frac=pct_entrenamiento)\n",
        "vehiculos_training.shape"
      ],
      "execution_count": 0,
      "outputs": [
        {
          "output_type": "execute_result",
          "data": {
            "text/plain": [
              "(28431, 5)"
            ]
          },
          "metadata": {
            "tags": []
          },
          "execution_count": 39
        }
      ]
    },
    {
      "cell_type": "code",
      "metadata": {
        "id": "FMo54Pp5NFuv",
        "colab_type": "code",
        "colab": {}
      },
      "source": [
        "vehiculos_test=vehiculos[~vehiculos.index.isin(vehiculos_training.index)]"
      ],
      "execution_count": 0,
      "outputs": []
    },
    {
      "cell_type": "code",
      "metadata": {
        "id": "QaTQHk82OI1a",
        "colab_type": "code",
        "outputId": "a036d891-04af-4bd4-b6e6-94b652e2ded4",
        "colab": {
          "base_uri": "https://localhost:8080/",
          "height": 34
        }
      },
      "source": [
        "vehiculos_test.shape # Permite lista los archivos en columnas y filas"
      ],
      "execution_count": 0,
      "outputs": [
        {
          "output_type": "execute_result",
          "data": {
            "text/plain": [
              "(7108, 5)"
            ]
          },
          "metadata": {
            "tags": []
          },
          "execution_count": 41
        }
      ]
    },
    {
      "cell_type": "code",
      "metadata": {
        "id": "OF7KR1IcPFqK",
        "colab_type": "code",
        "colab": {}
      },
      "source": [
        "variables_independientes= [\"consumo_litros_milla\",\"cilindros\",\"desplazamiento\"]\n",
        "variables_dependientes=\"co2\""
      ],
      "execution_count": 0,
      "outputs": []
    },
    {
      "cell_type": "code",
      "metadata": {
        "id": "lhqhcpuFQPF7",
        "colab_type": "code",
        "outputId": "79baca39-3f0f-427f-db8e-8b9f45b10e45",
        "colab": {
          "base_uri": "https://localhost:8080/",
          "height": 105
        }
      },
      "source": [
        "X= vehiculos_training[variables_independientes].as_matrix()\n",
        "Y = vehiculos_training[variables_dependientes].as_matrix()"
      ],
      "execution_count": 0,
      "outputs": [
        {
          "output_type": "stream",
          "text": [
            "/usr/local/lib/python3.6/dist-packages/ipykernel_launcher.py:1: FutureWarning: Method .as_matrix will be removed in a future version. Use .values instead.\n",
            "  \"\"\"Entry point for launching an IPython kernel.\n",
            "/usr/local/lib/python3.6/dist-packages/ipykernel_launcher.py:2: FutureWarning: Method .as_matrix will be removed in a future version. Use .values instead.\n",
            "  \n"
          ],
          "name": "stderr"
        }
      ]
    },
    {
      "cell_type": "code",
      "metadata": {
        "id": "D9o7mCoAQ4cM",
        "colab_type": "code",
        "outputId": "d99d2066-533e-408f-ad07-57fe348c85db",
        "colab": {
          "base_uri": "https://localhost:8080/",
          "height": 136
        }
      },
      "source": [
        "X_T=X.T # Mutiplica por la transpuesta\n",
        "X\n"
      ],
      "execution_count": 0,
      "outputs": [
        {
          "output_type": "execute_result",
          "data": {
            "text/plain": [
              "array([[0.18025762, 4.        , 2.5       ],\n",
              "       [0.17206409, 4.        , 2.        ],\n",
              "       [0.27038643, 8.        , 5.        ],\n",
              "       ...,\n",
              "       [0.22267118, 8.        , 5.3       ],\n",
              "       [0.1514164 , 4.        , 1.6       ],\n",
              "       [0.21030056, 8.        , 4.5       ]])"
            ]
          },
          "metadata": {
            "tags": []
          },
          "execution_count": 44
        }
      ]
    },
    {
      "cell_type": "code",
      "metadata": {
        "id": "JfpKgaRmRXoH",
        "colab_type": "code",
        "outputId": "954efec3-0eb0-4747-e17a-a9c4df64f3bb",
        "colab": {
          "base_uri": "https://localhost:8080/",
          "height": 51
        }
      },
      "source": [
        "Y"
      ],
      "execution_count": 0,
      "outputs": [
        {
          "output_type": "execute_result",
          "data": {
            "text/plain": [
              "array([423.19047619, 403.95454545, 634.78571429, ..., 522.76470588,\n",
              "       355.48      , 493.72222222])"
            ]
          },
          "metadata": {
            "tags": []
          },
          "execution_count": 45
        }
      ]
    },
    {
      "cell_type": "code",
      "metadata": {
        "id": "iZ9ruq5sRZ2F",
        "colab_type": "code",
        "outputId": "c3207e53-0443-43e1-a76f-c97f6198be33",
        "colab": {
          "base_uri": "https://localhost:8080/",
          "height": 34
        }
      },
      "source": [
        "betas=np.linalg.inv(X_T @ X) @ X_T @ Y # Formula de Betas\n",
        "betas"
      ],
      "execution_count": 0,
      "outputs": [
        {
          "output_type": "execute_result",
          "data": {
            "text/plain": [
              "array([ 2.30489108e+03, -5.39586764e-01,  3.74129303e+00])"
            ]
          },
          "metadata": {
            "tags": []
          },
          "execution_count": 46
        }
      ]
    },
    {
      "cell_type": "code",
      "metadata": {
        "id": "pE7rYBVlR0X0",
        "colab_type": "code",
        "outputId": "a6ca48ed-f667-4808-f3bd-242d7573eb5a",
        "colab": {
          "base_uri": "https://localhost:8080/",
          "height": 71
        }
      },
      "source": [
        "alfa=Y.mean() - np.dot(betas, vehiculos_training[variables_independientes].mean().as_matrix())"
      ],
      "execution_count": 0,
      "outputs": [
        {
          "output_type": "stream",
          "text": [
            "/usr/local/lib/python3.6/dist-packages/ipykernel_launcher.py:1: FutureWarning: Method .as_matrix will be removed in a future version. Use .values instead.\n",
            "  \"\"\"Entry point for launching an IPython kernel.\n"
          ],
          "name": "stderr"
        }
      ]
    },
    {
      "cell_type": "code",
      "metadata": {
        "id": "gURGS8rpSimc",
        "colab_type": "code",
        "outputId": "c04a3d6d-a6b1-4a13-b8db-58f049f544fd",
        "colab": {
          "base_uri": "https://localhost:8080/",
          "height": 34
        }
      },
      "source": [
        "alfa"
      ],
      "execution_count": 0,
      "outputs": [
        {
          "output_type": "execute_result",
          "data": {
            "text/plain": [
              "0.3627469056549444"
            ]
          },
          "metadata": {
            "tags": []
          },
          "execution_count": 55
        }
      ]
    },
    {
      "cell_type": "code",
      "metadata": {
        "id": "j8l75bDDSmSJ",
        "colab_type": "code",
        "colab": {}
      },
      "source": [
        "def predecir(r):\n",
        "  return alfa + np.dot(betas, r.values)"
      ],
      "execution_count": 0,
      "outputs": []
    },
    {
      "cell_type": "code",
      "metadata": {
        "id": "R7Q3R5XsV7Fn",
        "colab_type": "code",
        "colab": {}
      },
      "source": [
        "vehiculos_training['co2_pred']=vehiculos_training[variables_independientes].apply(predecir, axis=1)"
      ],
      "execution_count": 0,
      "outputs": []
    },
    {
      "cell_type": "code",
      "metadata": {
        "id": "Qfvy4m7wW4Wc",
        "colab_type": "code",
        "outputId": "d292aa08-9975-41bb-e50d-0534c7d30c26",
        "colab": {
          "base_uri": "https://localhost:8080/",
          "height": 139
        }
      },
      "source": [
        "vehiculos_test['co2_pred']=vehiculos_test[variables_independientes].apply(predecir, axis=1)"
      ],
      "execution_count": 0,
      "outputs": [
        {
          "output_type": "stream",
          "text": [
            "/usr/local/lib/python3.6/dist-packages/ipykernel_launcher.py:1: SettingWithCopyWarning: \n",
            "A value is trying to be set on a copy of a slice from a DataFrame.\n",
            "Try using .loc[row_indexer,col_indexer] = value instead\n",
            "\n",
            "See the caveats in the documentation: http://pandas.pydata.org/pandas-docs/stable/indexing.html#indexing-view-versus-copy\n",
            "  \"\"\"Entry point for launching an IPython kernel.\n"
          ],
          "name": "stderr"
        }
      ]
    },
    {
      "cell_type": "code",
      "metadata": {
        "id": "Ngo9BqEqXq8S",
        "colab_type": "code",
        "outputId": "6321cd5c-ab8c-446e-b12c-875ed9e2fc89",
        "colab": {
          "base_uri": "https://localhost:8080/",
          "height": 204
        }
      },
      "source": [
        "vehiculos_training.head()"
      ],
      "execution_count": 0,
      "outputs": [
        {
          "output_type": "execute_result",
          "data": {
            "text/html": [
              "<div>\n",
              "<style scoped>\n",
              "    .dataframe tbody tr th:only-of-type {\n",
              "        vertical-align: middle;\n",
              "    }\n",
              "\n",
              "    .dataframe tbody tr th {\n",
              "        vertical-align: top;\n",
              "    }\n",
              "\n",
              "    .dataframe thead th {\n",
              "        text-align: right;\n",
              "    }\n",
              "</style>\n",
              "<table border=\"1\" class=\"dataframe\">\n",
              "  <thead>\n",
              "    <tr style=\"text-align: right;\">\n",
              "      <th></th>\n",
              "      <th>desplazamiento</th>\n",
              "      <th>cilindros</th>\n",
              "      <th>consumo</th>\n",
              "      <th>co2</th>\n",
              "      <th>consumo_litros_milla</th>\n",
              "      <th>co2_pred</th>\n",
              "    </tr>\n",
              "  </thead>\n",
              "  <tbody>\n",
              "    <tr>\n",
              "      <th>27502</th>\n",
              "      <td>2.5</td>\n",
              "      <td>4.0</td>\n",
              "      <td>21</td>\n",
              "      <td>423.190476</td>\n",
              "      <td>0.180258</td>\n",
              "      <td>423.031811</td>\n",
              "    </tr>\n",
              "    <tr>\n",
              "      <th>20364</th>\n",
              "      <td>2.0</td>\n",
              "      <td>4.0</td>\n",
              "      <td>22</td>\n",
              "      <td>403.954545</td>\n",
              "      <td>0.172064</td>\n",
              "      <td>402.275974</td>\n",
              "    </tr>\n",
              "    <tr>\n",
              "      <th>14132</th>\n",
              "      <td>5.0</td>\n",
              "      <td>8.0</td>\n",
              "      <td>14</td>\n",
              "      <td>634.785714</td>\n",
              "      <td>0.270386</td>\n",
              "      <td>637.963785</td>\n",
              "    </tr>\n",
              "    <tr>\n",
              "      <th>29857</th>\n",
              "      <td>5.4</td>\n",
              "      <td>8.0</td>\n",
              "      <td>12</td>\n",
              "      <td>740.583333</td>\n",
              "      <td>0.315451</td>\n",
              "      <td>743.328847</td>\n",
              "    </tr>\n",
              "    <tr>\n",
              "      <th>28685</th>\n",
              "      <td>2.2</td>\n",
              "      <td>4.0</td>\n",
              "      <td>26</td>\n",
              "      <td>341.807692</td>\n",
              "      <td>0.145593</td>\n",
              "      <td>342.010542</td>\n",
              "    </tr>\n",
              "  </tbody>\n",
              "</table>\n",
              "</div>"
            ],
            "text/plain": [
              "       desplazamiento  cilindros  ...  consumo_litros_milla    co2_pred\n",
              "27502             2.5        4.0  ...              0.180258  423.031811\n",
              "20364             2.0        4.0  ...              0.172064  402.275974\n",
              "14132             5.0        8.0  ...              0.270386  637.963785\n",
              "29857             5.4        8.0  ...              0.315451  743.328847\n",
              "28685             2.2        4.0  ...              0.145593  342.010542\n",
              "\n",
              "[5 rows x 6 columns]"
            ]
          },
          "metadata": {
            "tags": []
          },
          "execution_count": 63
        }
      ]
    },
    {
      "cell_type": "code",
      "metadata": {
        "id": "vHWkzjmhX5kw",
        "colab_type": "code",
        "outputId": "a0acef85-5bbf-4fcb-9614-99aca7a117d6",
        "colab": {
          "base_uri": "https://localhost:8080/",
          "height": 204
        }
      },
      "source": [
        "vehiculos_test.head()"
      ],
      "execution_count": 0,
      "outputs": [
        {
          "output_type": "execute_result",
          "data": {
            "text/html": [
              "<div>\n",
              "<style scoped>\n",
              "    .dataframe tbody tr th:only-of-type {\n",
              "        vertical-align: middle;\n",
              "    }\n",
              "\n",
              "    .dataframe tbody tr th {\n",
              "        vertical-align: top;\n",
              "    }\n",
              "\n",
              "    .dataframe thead th {\n",
              "        text-align: right;\n",
              "    }\n",
              "</style>\n",
              "<table border=\"1\" class=\"dataframe\">\n",
              "  <thead>\n",
              "    <tr style=\"text-align: right;\">\n",
              "      <th></th>\n",
              "      <th>desplazamiento</th>\n",
              "      <th>cilindros</th>\n",
              "      <th>consumo</th>\n",
              "      <th>co2</th>\n",
              "      <th>consumo_litros_milla</th>\n",
              "      <th>co2_pred</th>\n",
              "    </tr>\n",
              "  </thead>\n",
              "  <tbody>\n",
              "    <tr>\n",
              "      <th>1</th>\n",
              "      <td>4.2</td>\n",
              "      <td>6.0</td>\n",
              "      <td>13</td>\n",
              "      <td>683.615385</td>\n",
              "      <td>0.291185</td>\n",
              "      <td>683.989252</td>\n",
              "    </tr>\n",
              "    <tr>\n",
              "      <th>5</th>\n",
              "      <td>2.2</td>\n",
              "      <td>4.0</td>\n",
              "      <td>22</td>\n",
              "      <td>403.954545</td>\n",
              "      <td>0.172064</td>\n",
              "      <td>403.024233</td>\n",
              "    </tr>\n",
              "    <tr>\n",
              "      <th>6</th>\n",
              "      <td>2.2</td>\n",
              "      <td>4.0</td>\n",
              "      <td>24</td>\n",
              "      <td>370.291667</td>\n",
              "      <td>0.157725</td>\n",
              "      <td>369.975150</td>\n",
              "    </tr>\n",
              "    <tr>\n",
              "      <th>7</th>\n",
              "      <td>3.0</td>\n",
              "      <td>6.0</td>\n",
              "      <td>20</td>\n",
              "      <td>444.350000</td>\n",
              "      <td>0.189271</td>\n",
              "      <td>444.596992</td>\n",
              "    </tr>\n",
              "    <tr>\n",
              "      <th>9</th>\n",
              "      <td>2.3</td>\n",
              "      <td>4.0</td>\n",
              "      <td>24</td>\n",
              "      <td>370.291667</td>\n",
              "      <td>0.157725</td>\n",
              "      <td>370.349280</td>\n",
              "    </tr>\n",
              "  </tbody>\n",
              "</table>\n",
              "</div>"
            ],
            "text/plain": [
              "   desplazamiento  cilindros  ...  consumo_litros_milla    co2_pred\n",
              "1             4.2        6.0  ...              0.291185  683.989252\n",
              "5             2.2        4.0  ...              0.172064  403.024233\n",
              "6             2.2        4.0  ...              0.157725  369.975150\n",
              "7             3.0        6.0  ...              0.189271  444.596992\n",
              "9             2.3        4.0  ...              0.157725  370.349280\n",
              "\n",
              "[5 rows x 6 columns]"
            ]
          },
          "metadata": {
            "tags": []
          },
          "execution_count": 64
        }
      ]
    },
    {
      "cell_type": "code",
      "metadata": {
        "id": "5QkLsBFpYPER",
        "colab_type": "code",
        "colab": {}
      },
      "source": [
        "modelo_formula=\"y ~ {alfa:.3f} +{beta_1:2f}*desplazamiento + {beta_2:.2f}*cilindros + {beta_3:.3f}*consumo_litros_milla\".format(alfa=alfa, beta_1=betas[0],beta_2=betas[1], beta_3=betas[2])"
      ],
      "execution_count": 0,
      "outputs": []
    },
    {
      "cell_type": "code",
      "metadata": {
        "id": "OfV_E0WmZ7Ft",
        "colab_type": "code",
        "outputId": "2507c05b-9797-4f93-d1e3-57691532ebe9",
        "colab": {
          "base_uri": "https://localhost:8080/",
          "height": 34
        }
      },
      "source": [
        "modelo_formula"
      ],
      "execution_count": 0,
      "outputs": [
        {
          "output_type": "execute_result",
          "data": {
            "text/plain": [
              "'y ~ 0.363 +2304.891079*desplazamiento + -0.54*cilindros + 3.741*consumo_litros_milla'"
            ]
          },
          "metadata": {
            "tags": []
          },
          "execution_count": 69
        }
      ]
    },
    {
      "cell_type": "code",
      "metadata": {
        "id": "2B_aYHc5aATW",
        "colab_type": "code",
        "colab": {}
      },
      "source": [
        "%matplotlib inline\n",
        "import matplotlib.pyplot as plt\n",
        "plt.rcParams['figure.figsize'] = (12,12)\n",
        "plt.rcParams['font.size']=16"
      ],
      "execution_count": 0,
      "outputs": []
    },
    {
      "cell_type": "code",
      "metadata": {
        "id": "H6kZVh0eatid",
        "colab_type": "code",
        "outputId": "5da07273-8872-4bad-90c9-b235da598c80",
        "colab": {
          "base_uri": "https://localhost:8080/",
          "height": 741
        }
      },
      "source": [
        "plt.scatter(vehiculos_test.consumo_litros_milla,vehiculos_test.co2, alpha=0.5, label=\"Real\")\n",
        "plt.text(0.1,850, modelo_formula)\n",
        "plt.plot(vehiculos_test.consumo_litros_milla,vehiculos_test.co2_pred, c=\"black\", label=\"Prediccion\")\n",
        "plt.xlabel(\"Consumo Combustible (listros/milla)\")\n",
        "plt.ylabel(\"Emision Co2 gramos/Milla\")\n",
        "plt.legend();"
      ],
      "execution_count": 0,
      "outputs": [
        {
          "output_type": "display_data",
          "data": {
            "image/png": "[encoded data removed]",
            "text/plain": [
              "<Figure size 864x864 with 1 Axes>"
            ]
          },
          "metadata": {
            "tags": []
          }
        }
      ]
    },
    {
      "cell_type": "code",
      "metadata": {
        "id": "RXZqwhmPdWC8",
        "colab_type": "code",
        "colab": {}
      },
      "source": [
        "def error_cuadratico_medio(y, y_pred):\n",
        "  return np.sum(y-y_pred)**2/len(y)"
      ],
      "execution_count": 0,
      "outputs": []
    },
    {
      "cell_type": "code",
      "metadata": {
        "id": "sWdgrczEeqhs",
        "colab_type": "code",
        "outputId": "99d9a8b8-b9bd-4a47-9199-d26304e0b4dc",
        "colab": {
          "base_uri": "https://localhost:8080/",
          "height": 1000
        }
      },
      "source": [
        "error_training= error_cuadratico_medio(vehiculos_training[vehiculos_training.co2,vehiculos_training.co2_pred])\n"
      ],
      "execution_count": 0,
      "outputs": [
        {
          "output_type": "error",
          "ename": "TypeError",
          "evalue": "ignored",
          "traceback": [
            "\u001b[0;31m---------------------------------------------------------------------------\u001b[0m",
            "\u001b[0;31mTypeError\u001b[0m                                 Traceback (most recent call last)",
            "\u001b[0;32m<ipython-input-90-ba9010dde65e>\u001b[0m in \u001b[0;36m<module>\u001b[0;34m()\u001b[0m\n\u001b[0;32m----> 1\u001b[0;31m \u001b[0merror_training\u001b[0m\u001b[0;34m=\u001b[0m \u001b[0merror_cuadratico_medio\u001b[0m\u001b[0;34m(\u001b[0m\u001b[0mvehiculos_training\u001b[0m\u001b[0;34m[\u001b[0m\u001b[0mvehiculos_training\u001b[0m\u001b[0;34m.\u001b[0m\u001b[0mco2\u001b[0m\u001b[0;34m,\u001b[0m\u001b[0mvehiculos_training\u001b[0m\u001b[0;34m.\u001b[0m\u001b[0mco2_pred\u001b[0m\u001b[0;34m]\u001b[0m\u001b[0;34m)\u001b[0m\u001b[0;34m\u001b[0m\u001b[0;34m\u001b[0m\u001b[0m\n\u001b[0m",
            "\u001b[0;32m/usr/local/lib/python3.6/dist-packages/pandas/core/frame.py\u001b[0m in \u001b[0;36m__getitem__\u001b[0;34m(self, key)\u001b[0m\n\u001b[1;32m   2925\u001b[0m             \u001b[0;32mif\u001b[0m \u001b[0mself\u001b[0m\u001b[0;34m.\u001b[0m\u001b[0mcolumns\u001b[0m\u001b[0;34m.\u001b[0m\u001b[0mnlevels\u001b[0m \u001b[0;34m>\u001b[0m \u001b[0;36m1\u001b[0m\u001b[0;34m:\u001b[0m\u001b[0;34m\u001b[0m\u001b[0;34m\u001b[0m\u001b[0m\n\u001b[1;32m   2926\u001b[0m                 \u001b[0;32mreturn\u001b[0m \u001b[0mself\u001b[0m\u001b[0;34m.\u001b[0m\u001b[0m_getitem_multilevel\u001b[0m\u001b[0;34m(\u001b[0m\u001b[0mkey\u001b[0m\u001b[0;34m)\u001b[0m\u001b[0;34m\u001b[0m\u001b[0;34m\u001b[0m\u001b[0m\n\u001b[0;32m-> 2927\u001b[0;31m             \u001b[0mindexer\u001b[0m \u001b[0;34m=\u001b[0m \u001b[0mself\u001b[0m\u001b[0;34m.\u001b[0m\u001b[0mcolumns\u001b[0m\u001b[0;34m.\u001b[0m\u001b[0mget_loc\u001b[0m\u001b[0;34m(\u001b[0m\u001b[0mkey\u001b[0m\u001b[0;34m)\u001b[0m\u001b[0;34m\u001b[0m\u001b[0;34m\u001b[0m\u001b[0m\n\u001b[0m\u001b[1;32m   2928\u001b[0m             \u001b[0;32mif\u001b[0m \u001b[0mis_integer\u001b[0m\u001b[0;34m(\u001b[0m\u001b[0mindexer\u001b[0m\u001b[0;34m)\u001b[0m\u001b[0;34m:\u001b[0m\u001b[0;34m\u001b[0m\u001b[0;34m\u001b[0m\u001b[0m\n\u001b[1;32m   2929\u001b[0m                 \u001b[0mindexer\u001b[0m \u001b[0;34m=\u001b[0m \u001b[0;34m[\u001b[0m\u001b[0mindexer\u001b[0m\u001b[0;34m]\u001b[0m\u001b[0;34m\u001b[0m\u001b[0;34m\u001b[0m\u001b[0m\n",
            "\u001b[0;32m/usr/local/lib/python3.6/dist-packages/pandas/core/indexes/base.py\u001b[0m in \u001b[0;36mget_loc\u001b[0;34m(self, key, method, tolerance)\u001b[0m\n\u001b[1;32m   2655\u001b[0m                                  'backfill or nearest lookups')\n\u001b[1;32m   2656\u001b[0m             \u001b[0;32mtry\u001b[0m\u001b[0;34m:\u001b[0m\u001b[0;34m\u001b[0m\u001b[0;34m\u001b[0m\u001b[0m\n\u001b[0;32m-> 2657\u001b[0;31m                 \u001b[0;32mreturn\u001b[0m \u001b[0mself\u001b[0m\u001b[0;34m.\u001b[0m\u001b[0m_engine\u001b[0m\u001b[0;34m.\u001b[0m\u001b[0mget_loc\u001b[0m\u001b[0;34m(\u001b[0m\u001b[0mkey\u001b[0m\u001b[0;34m)\u001b[0m\u001b[0;34m\u001b[0m\u001b[0;34m\u001b[0m\u001b[0m\n\u001b[0m\u001b[1;32m   2658\u001b[0m             \u001b[0;32mexcept\u001b[0m \u001b[0mKeyError\u001b[0m\u001b[0;34m:\u001b[0m\u001b[0;34m\u001b[0m\u001b[0;34m\u001b[0m\u001b[0m\n\u001b[1;32m   2659\u001b[0m                 \u001b[0;32mreturn\u001b[0m \u001b[0mself\u001b[0m\u001b[0;34m.\u001b[0m\u001b[0m_engine\u001b[0m\u001b[0;34m.\u001b[0m\u001b[0mget_loc\u001b[0m\u001b[0;34m(\u001b[0m\u001b[0mself\u001b[0m\u001b[0;34m.\u001b[0m\u001b[0m_maybe_cast_indexer\u001b[0m\u001b[0;34m(\u001b[0m\u001b[0mkey\u001b[0m\u001b[0;34m)\u001b[0m\u001b[0;34m)\u001b[0m\u001b[0;34m\u001b[0m\u001b[0;34m\u001b[0m\u001b[0m\n",
            "\u001b[0;32mpandas/_libs/index.pyx\u001b[0m in \u001b[0;36mpandas._libs.index.IndexEngine.get_loc\u001b[0;34m()\u001b[0m\n",
            "\u001b[0;32mpandas/_libs/index.pyx\u001b[0m in \u001b[0;36mpandas._libs.index.IndexEngine.get_loc\u001b[0;34m()\u001b[0m\n",
            "\u001b[0;31mTypeError\u001b[0m: '(27502    423.190476\n20364    403.954545\n14132    634.785714\n29857    740.583333\n28685    341.807692\n318      493.722222\n34839    444.350000\n5814     411.000000\n34177    370.291667\n35138    423.190476\n34673    423.190476\n27462    493.722222\n15296    670.000000\n26593    370.291667\n34943    444.350000\n15094    555.437500\n23687    469.000000\n1905     444.350000\n16091    598.823529\n14925    522.764706\n24643    386.391304\n10441    740.583333\n9594     683.615385\n26906    522.764706\n18124    467.736842\n15783    555.437500\n1999     324.000000\n19271    361.000000\n11221    522.764706\n30810    403.954545\n            ...    \n2138     325.000000\n1228     493.722222\n33263    493.722222\n15100    555.437500\n26443    423.190476\n28560    493.722222\n29460    493.000000\n22572    386.391304\n13118    318.000000\n13244    423.190476\n23132    444.350000\n7244     555.437500\n26386    555.437500\n31967    403.954545\n14737    634.785714\n32888    329.148148\n32094    634.785714\n29653    493.722222\n20078    329.148148\n33221    555.437500\n3011     423.190476\n32039    555.437500\n27947    467.736842\n26119    592.466667\n15563    683.615385\n28182    493.722222\n27882    522.764706\n7216     522.764706\n8649     355.480000\n18139    493.722222\nName: co2, Length: 28431, dtype: float64, 27502    423.031811\n20364    402.275974\n14132    637.963785\n29857    743.328847\n28685    342.010542\n318      493.068980\n34839    443.057261\n5814     446.841768\n34177    369.226892\n35138    422.118094\n34673    420.412905\n27462    491.155119\n15296    685.154855\n26593    371.097538\n34943    443.057261\n15094    558.522645\n23687    404.938094\n1905     444.596992\n16091    532.474878\n14925    526.445595\n24643    384.284716\n10441    745.199493\n9594     689.270277\n26906    525.323207\n18124    469.428054\n15783    561.184765\n1999     328.833569\n19271    356.181813\n11221    520.833655\n30810    401.527715\n            ...    \n2138     341.262284\n1228     491.946592\n33263    494.565497\n15100    558.522645\n26443    420.412905\n28560    499.472392\n29460    498.724134\n22572    383.536457\n13118    315.796102\n13244    422.283552\n23132    443.100475\n7244     561.184765\n26386    555.529611\n31967    400.779457\n14737    637.963785\n32888    328.085310\n32094    631.560373\n29653    495.313756\n20078    330.330086\n33221    555.155481\n3011     423.823284\n32039    558.939989\n27947    467.557408\n26119    591.135343\n15563    688.522018\n28182    502.091298\n27882    521.164570\n7216     529.107714\n8649     353.188778\n18139    497.601746\nName: co2_pred, Length: 28431, dtype: float64)' is an invalid key"
          ]
        }
      ]
    },
    {
      "cell_type": "code",
      "metadata": {
        "id": "D2wlQI49gYxd",
        "colab_type": "code",
        "outputId": "7cd5bc32-85f9-49c7-f530-e7dec6100f71",
        "colab": {
          "base_uri": "https://localhost:8080/",
          "height": 34
        }
      },
      "source": [
        "error_test=error_cuadratico_medio(vehiculos_test.co2,vehiculos_test.co2_pred)\n",
        "error_test"
      ],
      "execution_count": 0,
      "outputs": [
        {
          "output_type": "execute_result",
          "data": {
            "text/plain": [
              "204.41148528062683"
            ]
          },
          "metadata": {
            "tags": []
          },
          "execution_count": 88
        }
      ]
    }
  ]
}