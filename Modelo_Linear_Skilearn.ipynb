{
  "nbformat": 4,
  "nbformat_minor": 0,
  "metadata": {
    "colab": {
      "name": "Modelo Linear Skilearn.ipynb",
      "provenance": [],
      "collapsed_sections": [],
      "include_colab_link": true
    },
    "kernelspec": {
      "name": "python3",
      "display_name": "Python 3"
    }
  },
  "cells": [
    {
      "cell_type": "markdown",
      "metadata": {
        "id": "view-in-github",
        "colab_type": "text"
      },
      "source": [
        "<a href=\"https://colab.research.google.com/github/jmendozaore/Area51-Lecturas/blob/master/Modelo_Linear_Skilearn.ipynb\" target=\"_parent\"><img src=\"https://colab.research.google.com/assets/colab-badge.svg\" alt=\"Open In Colab\"/></a>"
      ]
    },
    {
      "cell_type": "code",
      "metadata": {
        "id": "HjVZBi5eh6I-",
        "colab_type": "code",
        "colab": {}
      },
      "source": [
        "from sklearn import datasets\n",
        "dataset =datasets.load_boston()\n"
      ],
      "execution_count": 0,
      "outputs": []
    },
    {
      "cell_type": "code",
      "metadata": {
        "id": "mfHuSXiFiBzA",
        "colab_type": "code",
        "colab": {
          "base_uri": "https://localhost:8080/",
          "height": 34
        },
        "outputId": "94f11a84-a128-472b-8b00-7829c4a6e57b"
      },
      "source": [
        "dataset.keys()"
      ],
      "execution_count": 9,
      "outputs": [
        {
          "output_type": "execute_result",
          "data": {
            "text/plain": [
              "dict_keys(['data', 'target', 'feature_names', 'DESCR', 'filename'])"
            ]
          },
          "metadata": {
            "tags": []
          },
          "execution_count": 9
        }
      ]
    },
    {
      "cell_type": "code",
      "metadata": {
        "id": "Rvz4bn5ti4Rn",
        "colab_type": "code",
        "colab": {}
      },
      "source": [
        "#dict_keys(['data', 'target','feature_names', 'DESCR'])"
      ],
      "execution_count": 0,
      "outputs": []
    },
    {
      "cell_type": "code",
      "metadata": {
        "id": "WYm6FmuTiNYm",
        "colab_type": "code",
        "colab": {}
      },
      "source": [
        "print(dataset['DESCR'])"
      ],
      "execution_count": 0,
      "outputs": []
    },
    {
      "cell_type": "code",
      "metadata": {
        "id": "RmSgIxO2iuN5",
        "colab_type": "code",
        "colab": {}
      },
      "source": [
        "variable_objetivo=dataset['target']"
      ],
      "execution_count": 0,
      "outputs": []
    },
    {
      "cell_type": "code",
      "metadata": {
        "id": "fJkuRdvujY22",
        "colab_type": "code",
        "colab": {}
      },
      "source": [
        "nombre_variables_independientes=dataset['feature_names']"
      ],
      "execution_count": 0,
      "outputs": []
    },
    {
      "cell_type": "code",
      "metadata": {
        "id": "n77A8Ul1j5DZ",
        "colab_type": "code",
        "colab": {}
      },
      "source": [
        "variable_independientes=dataset['data']\n"
      ],
      "execution_count": 0,
      "outputs": []
    },
    {
      "cell_type": "code",
      "metadata": {
        "id": "UihV1iswkFvH",
        "colab_type": "code",
        "colab": {}
      },
      "source": [
        "from sklearn.linear_model import LinearRegression"
      ],
      "execution_count": 0,
      "outputs": []
    },
    {
      "cell_type": "code",
      "metadata": {
        "id": "hH2-UWAWkpek",
        "colab_type": "code",
        "colab": {}
      },
      "source": [
        "modelo=LinearRegression()"
      ],
      "execution_count": 0,
      "outputs": []
    },
    {
      "cell_type": "code",
      "metadata": {
        "id": "V1-DgvaRkHP4",
        "colab_type": "code",
        "colab": {}
      },
      "source": [
        "LinearRegression?"
      ],
      "execution_count": 0,
      "outputs": []
    },
    {
      "cell_type": "code",
      "metadata": {
        "id": "-kLvxhCkkz5m",
        "colab_type": "code",
        "colab": {
          "base_uri": "https://localhost:8080/",
          "height": 34
        },
        "outputId": "be03979f-c577-4390-a3cd-6bab3dc85881"
      },
      "source": [
        "modelo.fit(X=variable_independientes,y=variable_objetivo)"
      ],
      "execution_count": 31,
      "outputs": [
        {
          "output_type": "execute_result",
          "data": {
            "text/plain": [
              "LinearRegression(copy_X=True, fit_intercept=True, n_jobs=None, normalize=False)"
            ]
          },
          "metadata": {
            "tags": []
          },
          "execution_count": 31
        }
      ]
    },
    {
      "cell_type": "code",
      "metadata": {
        "id": "NKEkDC8hlkjH",
        "colab_type": "code",
        "colab": {}
      },
      "source": [
        "predicciones= modelo.predict(variable_independientes)"
      ],
      "execution_count": 0,
      "outputs": []
    },
    {
      "cell_type": "code",
      "metadata": {
        "id": "RNxx-p_mluGd",
        "colab_type": "code",
        "colab": {
          "base_uri": "https://localhost:8080/",
          "height": 102
        },
        "outputId": "8bdbfd7d-3dfd-4af6-dcad-825f22a35b17"
      },
      "source": [
        "for y, y_pred in list(zip(variable_objetivo,predicciones))[:5]:\n",
        "  print(\"valor Real: {:.3f} Valor Estimado: {:.5f}\".format(y,y_pred))"
      ],
      "execution_count": 34,
      "outputs": [
        {
          "output_type": "stream",
          "text": [
            "valor Real: 24.000 Valor Estimado: 30.00384\n",
            "valor Real: 21.600 Valor Estimado: 25.02556\n",
            "valor Real: 34.700 Valor Estimado: 30.56760\n",
            "valor Real: 33.400 Valor Estimado: 28.60704\n",
            "valor Real: 36.200 Valor Estimado: 27.94352\n"
          ],
          "name": "stdout"
        }
      ]
    }
  ]
}