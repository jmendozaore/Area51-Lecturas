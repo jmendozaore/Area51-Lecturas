{
  "nbformat": 4,
  "nbformat_minor": 0,
  "metadata": {
    "kernelspec": {
      "display_name": "Python 3",
      "language": "python",
      "name": "python3"
    },
    "language_info": {
      "codemirror_mode": {
        "name": "ipython",
        "version": 3
      },
      "file_extension": ".py",
      "mimetype": "text/x-python",
      "name": "python",
      "nbconvert_exporter": "python",
      "pygments_lexer": "ipython3",
      "version": "3.6.1"
    },
    "colab": {
      "name": "K-Medias_JM.ipynb",
      "provenance": [],
      "collapsed_sections": [
        "34Gv5bW_TkMX"
      ],
      "toc_visible": true,
      "include_colab_link": true
    }
  },
  "cells": [
    {
      "cell_type": "markdown",
      "metadata": {
        "id": "view-in-github",
        "colab_type": "text"
      },
      "source": [
        "<a href=\"https://colab.research.google.com/github/jmendozaore/Area51-Lecturas/blob/master/K_Medias_JM.ipynb\" target=\"_parent\"><img src=\"https://colab.research.google.com/assets/colab-badge.svg\" alt=\"Open In Colab\"/></a>"
      ]
    },
    {
      "cell_type": "code",
      "metadata": {
        "id": "nhIWcZ51TkKm",
        "colab_type": "code",
        "colab": {}
      },
      "source": [
        "%load_ext watermark\n",
        "%watermark"
      ],
      "execution_count": 0,
      "outputs": []
    },
    {
      "cell_type": "code",
      "metadata": {
        "id": "8-20-KBkTkKr",
        "colab_type": "code",
        "colab": {}
      },
      "source": [
        "from IPython.display import Image\n",
        "import pandas as pd\n",
        "import numpy as np\n",
        "import matplotlib\n",
        "import matplotlib.pyplot as plt\n",
        "%matplotlib inline\n",
        "\n",
        "matplotlib.rcParams['figure.figsize'] = [14, 14]\n",
        "np.random.seed(42)"
      ],
      "execution_count": 0,
      "outputs": []
    },
    {
      "cell_type": "markdown",
      "metadata": {
        "id": "61um2HAfTkKu",
        "colab_type": "text"
      },
      "source": [
        "# Importamos los datos"
      ]
    },
    {
      "cell_type": "code",
      "metadata": {
        "id": "2Ov4IgI8TkKv",
        "colab_type": "code",
        "colab": {}
      },
      "source": [
        "vehiculos = pd.read_csv(\"vehiculos_procesado_con_grupos.csv\").drop(\n",
        "            [\"fabricante\", \"modelo\", \"transmision\", \"traccion\", \"clase\", \"combustible\", \"consumo\"], \n",
        "    axis=1)"
      ],
      "execution_count": 0,
      "outputs": []
    },
    {
      "cell_type": "code",
      "metadata": {
        "id": "XgNs3u8gTkKy",
        "colab_type": "code",
        "colab": {},
        "outputId": "ddd43c97-5997-449b-8a11-b0defda33e18"
      },
      "source": [
        "vehiculos.head()"
      ],
      "execution_count": 0,
      "outputs": [
        {
          "output_type": "execute_result",
          "data": {
            "text/html": [
              "<div>\n",
              "<style>\n",
              "    .dataframe thead tr:only-child th {\n",
              "        text-align: right;\n",
              "    }\n",
              "\n",
              "    .dataframe thead th {\n",
              "        text-align: left;\n",
              "    }\n",
              "\n",
              "    .dataframe tbody tr th {\n",
              "        vertical-align: top;\n",
              "    }\n",
              "</style>\n",
              "<table border=\"1\" class=\"dataframe\">\n",
              "  <thead>\n",
              "    <tr style=\"text-align: right;\">\n",
              "      <th></th>\n",
              "      <th>year</th>\n",
              "      <th>desplazamiento</th>\n",
              "      <th>cilindros</th>\n",
              "      <th>co2</th>\n",
              "      <th>clase_tipo</th>\n",
              "      <th>traccion_tipo</th>\n",
              "      <th>transmision_tipo</th>\n",
              "      <th>combustible_tipo</th>\n",
              "      <th>tamano_motor_tipo</th>\n",
              "      <th>consumo_tipo</th>\n",
              "      <th>co2_tipo</th>\n",
              "      <th>consumo_litros_milla</th>\n",
              "    </tr>\n",
              "  </thead>\n",
              "  <tbody>\n",
              "    <tr>\n",
              "      <th>0</th>\n",
              "      <td>1984</td>\n",
              "      <td>2.5</td>\n",
              "      <td>4.0</td>\n",
              "      <td>522.764706</td>\n",
              "      <td>Vehículos Especiales</td>\n",
              "      <td>dos</td>\n",
              "      <td>Automatica</td>\n",
              "      <td>Normal</td>\n",
              "      <td>pequeño</td>\n",
              "      <td>alto</td>\n",
              "      <td>alto</td>\n",
              "      <td>0.222671</td>\n",
              "    </tr>\n",
              "    <tr>\n",
              "      <th>1</th>\n",
              "      <td>1984</td>\n",
              "      <td>4.2</td>\n",
              "      <td>6.0</td>\n",
              "      <td>683.615385</td>\n",
              "      <td>Vehículos Especiales</td>\n",
              "      <td>dos</td>\n",
              "      <td>Automatica</td>\n",
              "      <td>Normal</td>\n",
              "      <td>grande</td>\n",
              "      <td>muy alto</td>\n",
              "      <td>muy alto</td>\n",
              "      <td>0.291185</td>\n",
              "    </tr>\n",
              "    <tr>\n",
              "      <th>2</th>\n",
              "      <td>1985</td>\n",
              "      <td>2.5</td>\n",
              "      <td>4.0</td>\n",
              "      <td>555.437500</td>\n",
              "      <td>Vehículos Especiales</td>\n",
              "      <td>dos</td>\n",
              "      <td>Automatica</td>\n",
              "      <td>Normal</td>\n",
              "      <td>pequeño</td>\n",
              "      <td>alto</td>\n",
              "      <td>alto</td>\n",
              "      <td>0.236588</td>\n",
              "    </tr>\n",
              "    <tr>\n",
              "      <th>3</th>\n",
              "      <td>1985</td>\n",
              "      <td>4.2</td>\n",
              "      <td>6.0</td>\n",
              "      <td>683.615385</td>\n",
              "      <td>Vehículos Especiales</td>\n",
              "      <td>dos</td>\n",
              "      <td>Automatica</td>\n",
              "      <td>Normal</td>\n",
              "      <td>grande</td>\n",
              "      <td>muy alto</td>\n",
              "      <td>muy alto</td>\n",
              "      <td>0.291185</td>\n",
              "    </tr>\n",
              "    <tr>\n",
              "      <th>4</th>\n",
              "      <td>1987</td>\n",
              "      <td>3.8</td>\n",
              "      <td>6.0</td>\n",
              "      <td>555.437500</td>\n",
              "      <td>Coches Medianos</td>\n",
              "      <td>dos</td>\n",
              "      <td>Automatica</td>\n",
              "      <td>Premium</td>\n",
              "      <td>grande</td>\n",
              "      <td>alto</td>\n",
              "      <td>alto</td>\n",
              "      <td>0.236588</td>\n",
              "    </tr>\n",
              "  </tbody>\n",
              "</table>\n",
              "</div>"
            ],
            "text/plain": [
              "   year  desplazamiento  cilindros         co2            clase_tipo  \\\n",
              "0  1984             2.5        4.0  522.764706  Vehículos Especiales   \n",
              "1  1984             4.2        6.0  683.615385  Vehículos Especiales   \n",
              "2  1985             2.5        4.0  555.437500  Vehículos Especiales   \n",
              "3  1985             4.2        6.0  683.615385  Vehículos Especiales   \n",
              "4  1987             3.8        6.0  555.437500       Coches Medianos   \n",
              "\n",
              "  traccion_tipo transmision_tipo combustible_tipo tamano_motor_tipo  \\\n",
              "0           dos       Automatica           Normal           pequeño   \n",
              "1           dos       Automatica           Normal            grande   \n",
              "2           dos       Automatica           Normal           pequeño   \n",
              "3           dos       Automatica           Normal            grande   \n",
              "4           dos       Automatica          Premium            grande   \n",
              "\n",
              "  consumo_tipo  co2_tipo  consumo_litros_milla  \n",
              "0         alto      alto              0.222671  \n",
              "1     muy alto  muy alto              0.291185  \n",
              "2         alto      alto              0.236588  \n",
              "3     muy alto  muy alto              0.291185  \n",
              "4         alto      alto              0.236588  "
            ]
          },
          "metadata": {
            "tags": []
          },
          "execution_count": 142
        }
      ]
    },
    {
      "cell_type": "code",
      "metadata": {
        "id": "SUN-fv_0TkK1",
        "colab_type": "code",
        "colab": {}
      },
      "source": [
        "datos_numericos = vehiculos.select_dtypes([int, float])# Tranformar los datos\n",
        "datos_categoricos = vehiculos.select_dtypes([object, \"category\"])"
      ],
      "execution_count": 0,
      "outputs": []
    },
    {
      "cell_type": "code",
      "metadata": {
        "id": "DTZgEyQBTkK4",
        "colab_type": "code",
        "colab": {
          "base_uri": "https://localhost:8080/",
          "height": 122
        },
        "outputId": "f1bcc2d3-0271-488b-d17f-b400bd66b1ba"
      },
      "source": [
        "for col in datos_numericos.columns:\n",
        "    datos_numericos[col].fillna(datos_numericos[col].mean(), inplace=True)"
      ],
      "execution_count": 7,
      "outputs": [
        {
          "output_type": "stream",
          "text": [
            "/usr/local/lib/python3.6/dist-packages/pandas/core/generic.py:6130: SettingWithCopyWarning: \n",
            "A value is trying to be set on a copy of a slice from a DataFrame\n",
            "\n",
            "See the caveats in the documentation: http://pandas.pydata.org/pandas-docs/stable/indexing.html#indexing-view-versus-copy\n",
            "  self._update_inplace(new_data)\n"
          ],
          "name": "stderr"
        }
      ]
    },
    {
      "cell_type": "markdown",
      "metadata": {
        "id": "HpjtgwsWTkK6",
        "colab_type": "text"
      },
      "source": [
        "Un aspecto importante a tener en cuenta cuando usamos Kmedias es que las distancias dependen de las escalas de las variables. Por lo tanto, es conveniente normalizar datos antes de continuar"
      ]
    },
    {
      "cell_type": "code",
      "metadata": {
        "id": "FAvByFDGTkK7",
        "colab_type": "code",
        "colab": {}
      },
      "source": [
        "from sklearn.preprocessing import MinMaxScaler\n",
        "\n",
        "datos_numericos_normalizado = MinMaxScaler().fit_transform(datos_numericos)\n",
        "datos_numericos_normalizado = pd.DataFrame(datos_numericos_normalizado,\n",
        "                                               columns=datos_numericos.columns) "
      ],
      "execution_count": 0,
      "outputs": []
    },
    {
      "cell_type": "code",
      "metadata": {
        "id": "a_zUwJYrTkK-",
        "colab_type": "code",
        "colab": {}
      },
      "source": [
        "datos_categoricos_codificados = pd.get_dummies(datos_categoricos, drop_first=True)"
      ],
      "execution_count": 0,
      "outputs": []
    },
    {
      "cell_type": "code",
      "metadata": {
        "id": "19fx4gqYTkLB",
        "colab_type": "code",
        "colab": {}
      },
      "source": [
        "vehiculos_procesado = pd.concat([datos_numericos_normalizado, datos_categoricos_codificados], axis=1)"
      ],
      "execution_count": 0,
      "outputs": []
    },
    {
      "cell_type": "code",
      "metadata": {
        "id": "NdHqyaIvTkLF",
        "colab_type": "code",
        "colab": {
          "base_uri": "https://localhost:8080/",
          "height": 34
        },
        "outputId": "043dfe59-2657-4537-8bbf-233bc1773d33"
      },
      "source": [
        "vehiculos_procesado.shape"
      ],
      "execution_count": 11,
      "outputs": [
        {
          "output_type": "execute_result",
          "data": {
            "text/plain": [
              "(36791, 29)"
            ]
          },
          "metadata": {
            "tags": []
          },
          "execution_count": 11
        }
      ]
    },
    {
      "cell_type": "code",
      "metadata": {
        "id": "OOU7ICA8TkLI",
        "colab_type": "code",
        "colab": {
          "base_uri": "https://localhost:8080/",
          "height": 241
        },
        "outputId": "c4ce9b23-0b3a-40e4-8986-c5e94b7f71d2"
      },
      "source": [
        "vehiculos_procesado.head()"
      ],
      "execution_count": 12,
      "outputs": [
        {
          "output_type": "execute_result",
          "data": {
            "text/html": [
              "<div>\n",
              "<style scoped>\n",
              "    .dataframe tbody tr th:only-of-type {\n",
              "        vertical-align: middle;\n",
              "    }\n",
              "\n",
              "    .dataframe tbody tr th {\n",
              "        vertical-align: top;\n",
              "    }\n",
              "\n",
              "    .dataframe thead th {\n",
              "        text-align: right;\n",
              "    }\n",
              "</style>\n",
              "<table border=\"1\" class=\"dataframe\">\n",
              "  <thead>\n",
              "    <tr style=\"text-align: right;\">\n",
              "      <th></th>\n",
              "      <th>year</th>\n",
              "      <th>desplazamiento</th>\n",
              "      <th>cilindros</th>\n",
              "      <th>co2</th>\n",
              "      <th>consumo_litros_milla</th>\n",
              "      <th>clase_tipo_Coche Familiar</th>\n",
              "      <th>clase_tipo_Coches Grandes</th>\n",
              "      <th>clase_tipo_Coches Medianos</th>\n",
              "      <th>clase_tipo_Coches pequeños</th>\n",
              "      <th>clase_tipo_Deportivos</th>\n",
              "      <th>clase_tipo_Furgoneta</th>\n",
              "      <th>clase_tipo_Vehículos Especiales</th>\n",
              "      <th>traccion_tipo_dos</th>\n",
              "      <th>transmision_tipo_Manual</th>\n",
              "      <th>combustible_tipo_Normal</th>\n",
              "      <th>combustible_tipo_Otros tipos de combustible</th>\n",
              "      <th>combustible_tipo_Premium</th>\n",
              "      <th>tamano_motor_tipo_mediano</th>\n",
              "      <th>tamano_motor_tipo_muy grande</th>\n",
              "      <th>tamano_motor_tipo_muy pequeño</th>\n",
              "      <th>tamano_motor_tipo_pequeño</th>\n",
              "      <th>consumo_tipo_bajo</th>\n",
              "      <th>consumo_tipo_moderado</th>\n",
              "      <th>consumo_tipo_muy alto</th>\n",
              "      <th>consumo_tipo_muy bajo</th>\n",
              "      <th>co2_tipo_bajo</th>\n",
              "      <th>co2_tipo_moderado</th>\n",
              "      <th>co2_tipo_muy alto</th>\n",
              "      <th>co2_tipo_muy bajo</th>\n",
              "    </tr>\n",
              "  </thead>\n",
              "  <tbody>\n",
              "    <tr>\n",
              "      <th>0</th>\n",
              "      <td>0.000000</td>\n",
              "      <td>0.243590</td>\n",
              "      <td>0.142857</td>\n",
              "      <td>0.398014</td>\n",
              "      <td>0.331027</td>\n",
              "      <td>0</td>\n",
              "      <td>0</td>\n",
              "      <td>0</td>\n",
              "      <td>0</td>\n",
              "      <td>0</td>\n",
              "      <td>0</td>\n",
              "      <td>1</td>\n",
              "      <td>1</td>\n",
              "      <td>0</td>\n",
              "      <td>1</td>\n",
              "      <td>0</td>\n",
              "      <td>0</td>\n",
              "      <td>0</td>\n",
              "      <td>0</td>\n",
              "      <td>0</td>\n",
              "      <td>1</td>\n",
              "      <td>0</td>\n",
              "      <td>0</td>\n",
              "      <td>0</td>\n",
              "      <td>0</td>\n",
              "      <td>0</td>\n",
              "      <td>0</td>\n",
              "      <td>0</td>\n",
              "      <td>0</td>\n",
              "    </tr>\n",
              "    <tr>\n",
              "      <th>1</th>\n",
              "      <td>0.000000</td>\n",
              "      <td>0.461538</td>\n",
              "      <td>0.285714</td>\n",
              "      <td>0.527672</td>\n",
              "      <td>0.475113</td>\n",
              "      <td>0</td>\n",
              "      <td>0</td>\n",
              "      <td>0</td>\n",
              "      <td>0</td>\n",
              "      <td>0</td>\n",
              "      <td>0</td>\n",
              "      <td>1</td>\n",
              "      <td>1</td>\n",
              "      <td>0</td>\n",
              "      <td>1</td>\n",
              "      <td>0</td>\n",
              "      <td>0</td>\n",
              "      <td>0</td>\n",
              "      <td>0</td>\n",
              "      <td>0</td>\n",
              "      <td>0</td>\n",
              "      <td>0</td>\n",
              "      <td>0</td>\n",
              "      <td>1</td>\n",
              "      <td>0</td>\n",
              "      <td>0</td>\n",
              "      <td>0</td>\n",
              "      <td>1</td>\n",
              "      <td>0</td>\n",
              "    </tr>\n",
              "    <tr>\n",
              "      <th>2</th>\n",
              "      <td>0.029412</td>\n",
              "      <td>0.243590</td>\n",
              "      <td>0.142857</td>\n",
              "      <td>0.424351</td>\n",
              "      <td>0.360294</td>\n",
              "      <td>0</td>\n",
              "      <td>0</td>\n",
              "      <td>0</td>\n",
              "      <td>0</td>\n",
              "      <td>0</td>\n",
              "      <td>0</td>\n",
              "      <td>1</td>\n",
              "      <td>1</td>\n",
              "      <td>0</td>\n",
              "      <td>1</td>\n",
              "      <td>0</td>\n",
              "      <td>0</td>\n",
              "      <td>0</td>\n",
              "      <td>0</td>\n",
              "      <td>0</td>\n",
              "      <td>1</td>\n",
              "      <td>0</td>\n",
              "      <td>0</td>\n",
              "      <td>0</td>\n",
              "      <td>0</td>\n",
              "      <td>0</td>\n",
              "      <td>0</td>\n",
              "      <td>0</td>\n",
              "      <td>0</td>\n",
              "    </tr>\n",
              "    <tr>\n",
              "      <th>3</th>\n",
              "      <td>0.029412</td>\n",
              "      <td>0.461538</td>\n",
              "      <td>0.285714</td>\n",
              "      <td>0.527672</td>\n",
              "      <td>0.475113</td>\n",
              "      <td>0</td>\n",
              "      <td>0</td>\n",
              "      <td>0</td>\n",
              "      <td>0</td>\n",
              "      <td>0</td>\n",
              "      <td>0</td>\n",
              "      <td>1</td>\n",
              "      <td>1</td>\n",
              "      <td>0</td>\n",
              "      <td>1</td>\n",
              "      <td>0</td>\n",
              "      <td>0</td>\n",
              "      <td>0</td>\n",
              "      <td>0</td>\n",
              "      <td>0</td>\n",
              "      <td>0</td>\n",
              "      <td>0</td>\n",
              "      <td>0</td>\n",
              "      <td>1</td>\n",
              "      <td>0</td>\n",
              "      <td>0</td>\n",
              "      <td>0</td>\n",
              "      <td>1</td>\n",
              "      <td>0</td>\n",
              "    </tr>\n",
              "    <tr>\n",
              "      <th>4</th>\n",
              "      <td>0.088235</td>\n",
              "      <td>0.410256</td>\n",
              "      <td>0.285714</td>\n",
              "      <td>0.424351</td>\n",
              "      <td>0.360294</td>\n",
              "      <td>0</td>\n",
              "      <td>0</td>\n",
              "      <td>1</td>\n",
              "      <td>0</td>\n",
              "      <td>0</td>\n",
              "      <td>0</td>\n",
              "      <td>0</td>\n",
              "      <td>1</td>\n",
              "      <td>0</td>\n",
              "      <td>0</td>\n",
              "      <td>0</td>\n",
              "      <td>1</td>\n",
              "      <td>0</td>\n",
              "      <td>0</td>\n",
              "      <td>0</td>\n",
              "      <td>0</td>\n",
              "      <td>0</td>\n",
              "      <td>0</td>\n",
              "      <td>0</td>\n",
              "      <td>0</td>\n",
              "      <td>0</td>\n",
              "      <td>0</td>\n",
              "      <td>0</td>\n",
              "      <td>0</td>\n",
              "    </tr>\n",
              "  </tbody>\n",
              "</table>\n",
              "</div>"
            ],
            "text/plain": [
              "       year  desplazamiento  ...  co2_tipo_muy alto  co2_tipo_muy bajo\n",
              "0  0.000000        0.243590  ...                  0                  0\n",
              "1  0.000000        0.461538  ...                  1                  0\n",
              "2  0.029412        0.243590  ...                  0                  0\n",
              "3  0.029412        0.461538  ...                  1                  0\n",
              "4  0.088235        0.410256  ...                  0                  0\n",
              "\n",
              "[5 rows x 29 columns]"
            ]
          },
          "metadata": {
            "tags": []
          },
          "execution_count": 12
        }
      ]
    },
    {
      "cell_type": "markdown",
      "metadata": {
        "id": "QS79h9GQTkLM",
        "colab_type": "text"
      },
      "source": [
        ""
      ]
    },
    {
      "cell_type": "markdown",
      "metadata": {
        "id": "wb3vwREOTkLN",
        "colab_type": "text"
      },
      "source": [
        "# K-Medias\n",
        "\n",
        "Scikit-learn implementa KMedias en el módulo [sklearn.cluster.KMeans](http://scikit-learn.org/stable/modules/generated/sklearn.cluster.KMeans.html)"
      ]
    },
    {
      "cell_type": "code",
      "metadata": {
        "id": "GJWEovtdTkLP",
        "colab_type": "code",
        "colab": {}
      },
      "source": [
        "from sklearn.cluster import KMeans"
      ],
      "execution_count": 0,
      "outputs": []
    },
    {
      "cell_type": "code",
      "metadata": {
        "id": "2DNtnOh8TkLS",
        "colab_type": "code",
        "colab": {
          "base_uri": "https://localhost:8080/",
          "height": 68
        },
        "outputId": "37063d2d-6e2a-4421-f78b-9f6369856027"
      },
      "source": [
        "estimador_kmedias = KMeans(random_state=42, n_clusters=8)\n",
        "\n",
        "estimador_kmedias.fit(vehiculos_procesado)"
      ],
      "execution_count": 14,
      "outputs": [
        {
          "output_type": "execute_result",
          "data": {
            "text/plain": [
              "KMeans(algorithm='auto', copy_x=True, init='k-means++', max_iter=300,\n",
              "       n_clusters=8, n_init=10, n_jobs=None, precompute_distances='auto',\n",
              "       random_state=42, tol=0.0001, verbose=0)"
            ]
          },
          "metadata": {
            "tags": []
          },
          "execution_count": 14
        }
      ]
    },
    {
      "cell_type": "markdown",
      "metadata": {
        "id": "VTNc42x7TkLV",
        "colab_type": "text"
      },
      "source": [
        "Dado que es aprendizaje supervisado, nos interesan las clases (los clusters) de los datos de entrenamiento."
      ]
    },
    {
      "cell_type": "code",
      "metadata": {
        "id": "S-x4qE_8TkLW",
        "colab_type": "code",
        "colab": {
          "base_uri": "https://localhost:8080/",
          "height": 34
        },
        "outputId": "3b2956fb-e722-4f2a-ab0a-042106228362"
      },
      "source": [
        "clusters = estimador_kmedias.labels_\n",
        "clusters"
      ],
      "execution_count": 15,
      "outputs": [
        {
          "output_type": "execute_result",
          "data": {
            "text/plain": [
              "array([1, 5, 1, ..., 2, 2, 2], dtype=int32)"
            ]
          },
          "metadata": {
            "tags": []
          },
          "execution_count": 15
        }
      ]
    },
    {
      "cell_type": "markdown",
      "metadata": {
        "id": "ZsDUGJNSTkLY",
        "colab_type": "text"
      },
      "source": [
        "No obstante, como cualquier estimador, podemos usarlo para asignar clusters a nuevos elementos."
      ]
    },
    {
      "cell_type": "code",
      "metadata": {
        "id": "dmJJ7VljTkLZ",
        "colab_type": "code",
        "colab": {
          "base_uri": "https://localhost:8080/",
          "height": 34
        },
        "outputId": "cc73b871-4c9d-4d67-a420-7da4c9a3a1c9"
      },
      "source": [
        "estimador_kmedias.predict(vehiculos_procesado)"
      ],
      "execution_count": 16,
      "outputs": [
        {
          "output_type": "execute_result",
          "data": {
            "text/plain": [
              "array([1, 5, 1, ..., 2, 2, 2], dtype=int32)"
            ]
          },
          "metadata": {
            "tags": []
          },
          "execution_count": 16
        }
      ]
    },
    {
      "cell_type": "code",
      "metadata": {
        "scrolled": true,
        "id": "0I6dWEfiTkLc",
        "colab_type": "code",
        "colab": {
          "base_uri": "https://localhost:8080/",
          "height": 1000
        },
        "outputId": "ac40280a-dff3-4803-ebea-84eb7136189b"
      },
      "source": [
        "centroides = estimador_kmedias.cluster_centers_\n",
        "centroides"
      ],
      "execution_count": 17,
      "outputs": [
        {
          "output_type": "execute_result",
          "data": {
            "text/plain": [
              "array([[ 5.76883653e-01,  3.60764896e-01,  2.98903957e-01,\n",
              "         3.54767330e-01,  2.83136945e-01,  8.60858257e-02,\n",
              "         7.80234070e-02,  1.94018205e-01,  5.64109233e-01,\n",
              "         6.99609883e-02,  7.80234070e-04,  3.64109233e-03,\n",
              "         6.73342003e-01,  2.75682705e-01, -2.94209102e-14,\n",
              "         7.28218466e-03,  9.92197659e-01,  3.88816645e-01,\n",
              "         1.00910273e-01,  5.14954486e-02,  1.64889467e-01,\n",
              "         1.82054616e-03,  9.97399220e-01,  1.32394096e-14,\n",
              "         2.60078023e-04,  7.49400542e-16,  9.82834850e-01,\n",
              "        -9.29811783e-15, -1.60427227e-14],\n",
              "       [ 4.48508099e-01,  4.18381136e-01,  3.00188218e-01,\n",
              "         4.05084911e-01,  3.38074341e-01,  2.34519104e-02,\n",
              "         3.58366271e-02,  4.24242424e-02,  3.95256917e-02,\n",
              "         2.75362319e-01,  1.03030303e-01,  1.36231884e-01,\n",
              "         5.47299078e-01,  2.71146245e-01,  8.64822134e-01,\n",
              "         3.55731225e-02,  9.82872200e-02,  2.78524374e-01,\n",
              "         1.29380764e-01,  8.69565217e-03,  5.84980237e-02,\n",
              "         2.31884058e-02,  2.18708827e-02,  1.31006317e-14,\n",
              "         2.05533597e-02,  1.37022398e-02,  2.39789196e-02,\n",
              "         2.89855072e-03,  8.69565217e-03],\n",
              "       [ 5.68688468e-01,  1.68772863e-01,  1.45299752e-01,\n",
              "         2.41156544e-01,  1.56687016e-01,  1.17846029e-01,\n",
              "         1.75889595e-02,  1.39223380e-01,  6.29549452e-01,\n",
              "         7.84738195e-02,  1.62359627e-03,  7.71208226e-03,\n",
              "         9.10702205e-01,  4.86131782e-01,  7.62954945e-01,\n",
              "         5.26315789e-02,  1.76024895e-01,  2.69246381e-02,\n",
              "         1.66811009e-14,  7.54566364e-01,  2.17967799e-01,\n",
              "        -1.68198788e-14,  1.35299689e-04, -1.03528297e-14,\n",
              "         9.98647003e-01,  5.00608849e-03,  5.41198755e-04,\n",
              "         8.21565038e-15,  9.93235016e-01],\n",
              "       [ 6.83963762e-01,  2.97303033e-01,  2.51580733e-01,\n",
              "         3.19480412e-01,  2.43668356e-01,  6.04534005e-02,\n",
              "         3.77833753e-02,  1.32421734e-01,  6.95573947e-01,\n",
              "         7.05289673e-02, -1.00613962e-15,  1.43936668e-03,\n",
              "         7.23641598e-01,  3.87549478e-01,  1.21014310e-14,\n",
              "         4.85786254e-02,  9.51061533e-01,  4.29650954e-01,\n",
              "         3.95825837e-03,  2.04749910e-01,  1.70564951e-01,\n",
              "         8.34832674e-01,  1.00475184e-14,  9.52016244e-15,\n",
              "         3.38251169e-02,  8.28715365e-01,  3.85030587e-02,\n",
              "         2.77555756e-15,  1.43936668e-03],\n",
              "       [ 4.05351833e-01,  3.31349055e-01,  2.56733995e-01,\n",
              "         3.54443163e-01,  2.82215370e-01,  8.40766435e-02,\n",
              "         9.08490254e-02,  1.35612818e-01,  1.85332012e-01,\n",
              "         1.71622068e-01,  6.64023786e-02,  8.83713247e-02,\n",
              "         7.84440040e-01,  2.52395111e-01,  9.46812025e-01,\n",
              "         5.31879749e-02,  7.21644966e-15,  4.39213743e-01,\n",
              "         5.71522960e-02,  4.88932937e-02,  2.19689462e-01,\n",
              "         1.10670631e-02,  9.84142716e-01,  7.43849426e-15,\n",
              "         4.79022134e-03, -1.70696790e-14,  9.98843740e-01,\n",
              "        -6.05071548e-15, -1.60982339e-15],\n",
              "       [ 3.13070751e-01,  5.48443965e-01,  3.83840596e-01,\n",
              "         5.07835592e-01,  4.53114356e-01,  1.97065908e-03,\n",
              "         1.62031968e-02,  1.79548938e-02,  3.15305452e-02,\n",
              "         1.32253120e-01,  2.33851544e-01,  1.42763302e-01,\n",
              "         5.63170571e-01,  2.64944165e-01,  1.00000000e+00,\n",
              "         1.30451205e-15,  6.93889390e-15,  7.94832494e-02,\n",
              "         6.49879571e-01,  8.75848478e-04,  1.16049923e-02,\n",
              "        -1.40165657e-14,  1.55431223e-15,  1.00000000e+00,\n",
              "        -6.55031585e-15,  7.49400542e-16, -1.16018306e-14,\n",
              "         1.00000000e+00, -1.74860126e-14],\n",
              "       [ 5.97841841e-01,  6.25181059e-01,  4.75403503e-01,\n",
              "         4.82404822e-01,  4.17440040e-01,  1.02163462e-02,\n",
              "         9.01442308e-02,  8.47355769e-02,  3.10997596e-01,\n",
              "         2.06430288e-01,  8.41346154e-02,  3.63581731e-02,\n",
              "         6.36418269e-01,  1.71574519e-01, -9.99200722e-16,\n",
              "         3.76802885e-01,  6.23197115e-01,  4.17668269e-02,\n",
              "         8.25420673e-01, -5.66213743e-15,  2.40384615e-03,\n",
              "         1.35216346e-02,  6.12980769e-02,  6.64963942e-01,\n",
              "        -6.35602682e-15,  7.49400542e-16,  1.41225962e-02,\n",
              "         7.73437500e-01, -1.45994328e-14],\n",
              "       [ 4.50703731e-01,  2.38130370e-01,  1.77772918e-01,\n",
              "         3.04221250e-01,  2.26232906e-01,  1.03736089e-01,\n",
              "         4.80922099e-02,  1.53418124e-01,  3.57909380e-01,\n",
              "         1.72694754e-01,  1.09300477e-02,  6.24006359e-02,\n",
              "         7.99085851e-01,  3.54928458e-01,  9.65421304e-01,\n",
              "         3.45786963e-02,  7.04991621e-15,  1.56200318e-01,\n",
              "         1.01351351e-02,  3.11605723e-01,  4.61248013e-01,\n",
              "         9.85890302e-01, -5.27355937e-15,  1.55153668e-14,\n",
              "         1.41096979e-02,  9.91255962e-01,  8.54531002e-03,\n",
              "        -1.67366121e-14,  1.98728140e-04]])"
            ]
          },
          "metadata": {
            "tags": []
          },
          "execution_count": 17
        }
      ]
    },
    {
      "cell_type": "code",
      "metadata": {
        "id": "laqmg4qqTkLf",
        "colab_type": "code",
        "colab": {
          "base_uri": "https://localhost:8080/",
          "height": 34
        },
        "outputId": "5e0bc929-a365-46a3-8d97-ec5cf8aa70b7"
      },
      "source": [
        "centroides.shape"
      ],
      "execution_count": 18,
      "outputs": [
        {
          "output_type": "execute_result",
          "data": {
            "text/plain": [
              "(8, 29)"
            ]
          },
          "metadata": {
            "tags": []
          },
          "execution_count": 18
        }
      ]
    },
    {
      "cell_type": "markdown",
      "metadata": {
        "id": "-daDIFpbTkLh",
        "colab_type": "text"
      },
      "source": [
        "Podemos ver también la inercia final de los clusters"
      ]
    },
    {
      "cell_type": "code",
      "metadata": {
        "id": "thPfmpYHTkLj",
        "colab_type": "code",
        "colab": {
          "base_uri": "https://localhost:8080/",
          "height": 34
        },
        "outputId": "0072b955-6605-4c7e-8622-85d0895cabf4"
      },
      "source": [
        "estimador_kmedias.inertia_"
      ],
      "execution_count": 22,
      "outputs": [
        {
          "output_type": "execute_result",
          "data": {
            "text/plain": [
              "66396.12086371897"
            ]
          },
          "metadata": {
            "tags": []
          },
          "execution_count": 22
        }
      ]
    },
    {
      "cell_type": "code",
      "metadata": {
        "id": "lZ_EAK5jTkLn",
        "colab_type": "code",
        "colab": {}
      },
      "source": [
        "print(KMeans.__doc__)"
      ],
      "execution_count": 0,
      "outputs": []
    },
    {
      "cell_type": "markdown",
      "metadata": {
        "id": "55nr4VpwTkLr",
        "colab_type": "text"
      },
      "source": [
        "Los hiperparámetros más importantes del algoritmo `KMeans`:\n",
        "\n",
        "- **n_clusters**: El número de clusters a crear, o sea **K**. Por defecto es 8\n",
        "- **init**: Método de inicialización. Un problema que tiene el algoritmo K-Medias es que la solucción alcanzada varia según la inicialización de los centroides. `sklearn` empieza usando el método `kmeans++` que es una versión más moderna y que proporciona mejores resultados que la inicialización aleatoria (random)\n",
        "- **n_init**: El número de inicializaciones a probar. Básicamente `KMeans` aplica el algoritmo `n_init` veces y elige los clusters que minimizan la inercia.\n",
        "- **max_iter**: Máximo número de iteraciones para llegar al criterio de parada.\n",
        "- **tol**: Tolerancia para declarar criterio de parada (cuanto más grande, antes parará el algoritmo).\n",
        "\n"
      ]
    },
    {
      "cell_type": "code",
      "metadata": {
        "id": "SKo_DATGTkLs",
        "colab_type": "code",
        "colab": {}
      },
      "source": [
        "from sklearn.metrics import euclidean_distances"
      ],
      "execution_count": 0,
      "outputs": []
    },
    {
      "cell_type": "code",
      "metadata": {
        "id": "vpT2kf4yTkLu",
        "colab_type": "code",
        "colab": {
          "base_uri": "https://localhost:8080/",
          "height": 289
        },
        "outputId": "1bc989f2-6a80-43cf-94a6-c74e1ff81d2b"
      },
      "source": [
        "distancias_centroides = euclidean_distances(centroides)\n",
        "distancias_centroides"
      ],
      "execution_count": 24,
      "outputs": [
        {
          "output_type": "execute_result",
          "data": {
            "text/plain": [
              "array([[0.        , 1.96506368, 2.45630006, 1.83447486, 1.45080812,\n",
              "        2.63592455, 2.01467587, 2.48259873],\n",
              "       [1.96506368, 0.        , 1.8377254 , 1.87956852, 1.44116702,\n",
              "        1.56332012, 1.71509998, 1.57210292],\n",
              "       [2.45630006, 1.8377254 , 0.        , 2.24693085, 2.25016219,\n",
              "        2.48302779, 2.44471826, 2.09524009],\n",
              "       [1.83447486, 1.87956852, 2.24693085, 0.        , 2.34030169,\n",
              "        2.60279686, 1.99401613, 1.50311996],\n",
              "       [1.45080812, 1.44116702, 2.25016219, 2.34030169, 0.        ,\n",
              "        2.18045414, 2.30466129, 2.04009419],\n",
              "       [2.63592455, 1.56332012, 2.48302779, 2.60279686, 2.18045414,\n",
              "        0.        , 1.40324723, 2.27586129],\n",
              "       [2.01467587, 1.71509998, 2.44471826, 1.99401613, 2.30466129,\n",
              "        1.40324723, 0.        , 2.41007257],\n",
              "       [2.48259873, 1.57210292, 2.09524009, 1.50311996, 2.04009419,\n",
              "        2.27586129, 2.41007257, 0.        ]])"
            ]
          },
          "metadata": {
            "tags": []
          },
          "execution_count": 24
        }
      ]
    },
    {
      "cell_type": "code",
      "metadata": {
        "id": "yUD1ZBFXTkLx",
        "colab_type": "code",
        "colab": {
          "base_uri": "https://localhost:8080/",
          "height": 153
        },
        "outputId": "0ed11cb5-4a97-461b-a07a-7dc34cd3de55"
      },
      "source": [
        "list(zip(np.argmax(distancias_centroides, axis=1), np.max(distancias_centroides, axis=1)))"
      ],
      "execution_count": 25,
      "outputs": [
        {
          "output_type": "execute_result",
          "data": {
            "text/plain": [
              "[(5, 2.6359245506257856),\n",
              " (0, 1.9650636847470384),\n",
              " (5, 2.4830277888634584),\n",
              " (5, 2.6027968637574785),\n",
              " (3, 2.340301690220056),\n",
              " (0, 2.6359245506257856),\n",
              " (2, 2.444718258880468),\n",
              " (0, 2.4825987260681837)]"
            ]
          },
          "metadata": {
            "tags": []
          },
          "execution_count": 25
        }
      ]
    },
    {
      "cell_type": "code",
      "metadata": {
        "id": "EIbGGaVSTkLz",
        "colab_type": "code",
        "colab": {}
      },
      "source": [
        "def resumen_cluster(cluster_id):\n",
        "    cluster = vehiculos[clusters==cluster_id]\n",
        "    resumen_cluster = cluster[datos_categoricos.columns].mode().to_dict(orient=\"records\")[0]\n",
        "    resumen_cluster.update(cluster.mean().to_dict())\n",
        "    resumen_cluster[\"cluster_id\"] = cluster_id\n",
        "    return resumen_cluster\n",
        "\n",
        "def comparar_clusters(*cluster_ids):\n",
        "    resumenes = []\n",
        "    for cluster_id in cluster_ids:\n",
        "        resumenes.append(resumen_cluster(cluster_id))\n",
        "    return pd.DataFrame(resumenes).set_index(\"cluster_id\").T"
      ],
      "execution_count": 0,
      "outputs": []
    },
    {
      "cell_type": "code",
      "metadata": {
        "id": "0dFy2AjGTkL2",
        "colab_type": "code",
        "colab": {
          "base_uri": "https://localhost:8080/",
          "height": 238
        },
        "outputId": "11bc3836-57a5-4354-fcd2-8c431b488441"
      },
      "source": [
        "resumen_cluster(0)"
      ],
      "execution_count": 27,
      "outputs": [
        {
          "output_type": "execute_result",
          "data": {
            "text/plain": [
              "{'cilindros': 6.184655396618986,\n",
              " 'clase_tipo': 'Coches pequeños',\n",
              " 'cluster_id': 0,\n",
              " 'co2': 469.1142135681682,\n",
              " 'co2_tipo': 'moderado',\n",
              " 'combustible_tipo': 'Premium',\n",
              " 'consumo_litros_milla': 0.19989933647420122,\n",
              " 'consumo_tipo': 'moderado',\n",
              " 'desplazamiento': 3.4139661898569407,\n",
              " 'tamano_motor_tipo': 'mediano',\n",
              " 'traccion_tipo': 'dos',\n",
              " 'transmision_tipo': 'Automatica',\n",
              " 'year': 2003.614044213264}"
            ]
          },
          "metadata": {
            "tags": []
          },
          "execution_count": 27
        }
      ]
    },
    {
      "cell_type": "code",
      "metadata": {
        "id": "nTSem-chTkL4",
        "colab_type": "code",
        "colab": {
          "base_uri": "https://localhost:8080/",
          "height": 421
        },
        "outputId": "f9ade4e0-7f96-4eb7-f1bd-595f7b30e1a4"
      },
      "source": [
        "comparar_clusters(0,5)"
      ],
      "execution_count": 28,
      "outputs": [
        {
          "output_type": "execute_result",
          "data": {
            "text/html": [
              "<div>\n",
              "<style scoped>\n",
              "    .dataframe tbody tr th:only-of-type {\n",
              "        vertical-align: middle;\n",
              "    }\n",
              "\n",
              "    .dataframe tbody tr th {\n",
              "        vertical-align: top;\n",
              "    }\n",
              "\n",
              "    .dataframe thead th {\n",
              "        text-align: right;\n",
              "    }\n",
              "</style>\n",
              "<table border=\"1\" class=\"dataframe\">\n",
              "  <thead>\n",
              "    <tr style=\"text-align: right;\">\n",
              "      <th>cluster_id</th>\n",
              "      <th>0</th>\n",
              "      <th>5</th>\n",
              "    </tr>\n",
              "  </thead>\n",
              "  <tbody>\n",
              "    <tr>\n",
              "      <th>cilindros</th>\n",
              "      <td>6.18466</td>\n",
              "      <td>7.37377</td>\n",
              "    </tr>\n",
              "    <tr>\n",
              "      <th>clase_tipo</th>\n",
              "      <td>Coches pequeños</td>\n",
              "      <td>Camionetas</td>\n",
              "    </tr>\n",
              "    <tr>\n",
              "      <th>co2</th>\n",
              "      <td>469.114</td>\n",
              "      <td>659.006</td>\n",
              "    </tr>\n",
              "    <tr>\n",
              "      <th>co2_tipo</th>\n",
              "      <td>moderado</td>\n",
              "      <td>muy alto</td>\n",
              "    </tr>\n",
              "    <tr>\n",
              "      <th>combustible_tipo</th>\n",
              "      <td>Premium</td>\n",
              "      <td>Normal</td>\n",
              "    </tr>\n",
              "    <tr>\n",
              "      <th>consumo_litros_milla</th>\n",
              "      <td>0.199899</td>\n",
              "      <td>0.280725</td>\n",
              "    </tr>\n",
              "    <tr>\n",
              "      <th>consumo_tipo</th>\n",
              "      <td>moderado</td>\n",
              "      <td>muy alto</td>\n",
              "    </tr>\n",
              "    <tr>\n",
              "      <th>desplazamiento</th>\n",
              "      <td>3.41397</td>\n",
              "      <td>4.87786</td>\n",
              "    </tr>\n",
              "    <tr>\n",
              "      <th>tamano_motor_tipo</th>\n",
              "      <td>mediano</td>\n",
              "      <td>muy grande</td>\n",
              "    </tr>\n",
              "    <tr>\n",
              "      <th>traccion_tipo</th>\n",
              "      <td>dos</td>\n",
              "      <td>dos</td>\n",
              "    </tr>\n",
              "    <tr>\n",
              "      <th>transmision_tipo</th>\n",
              "      <td>Automatica</td>\n",
              "      <td>Automatica</td>\n",
              "    </tr>\n",
              "    <tr>\n",
              "      <th>year</th>\n",
              "      <td>2003.61</td>\n",
              "      <td>1994.64</td>\n",
              "    </tr>\n",
              "  </tbody>\n",
              "</table>\n",
              "</div>"
            ],
            "text/plain": [
              "cluster_id                          0           5\n",
              "cilindros                     6.18466     7.37377\n",
              "clase_tipo            Coches pequeños  Camionetas\n",
              "co2                           469.114     659.006\n",
              "co2_tipo                     moderado    muy alto\n",
              "combustible_tipo              Premium      Normal\n",
              "consumo_litros_milla         0.199899    0.280725\n",
              "consumo_tipo                 moderado    muy alto\n",
              "desplazamiento                3.41397     4.87786\n",
              "tamano_motor_tipo             mediano  muy grande\n",
              "traccion_tipo                     dos         dos\n",
              "transmision_tipo           Automatica  Automatica\n",
              "year                          2003.61     1994.64"
            ]
          },
          "metadata": {
            "tags": []
          },
          "execution_count": 28
        }
      ]
    },
    {
      "cell_type": "code",
      "metadata": {
        "id": "GkA3ZkDFTkL7",
        "colab_type": "code",
        "colab": {
          "base_uri": "https://localhost:8080/",
          "height": 455
        },
        "outputId": "cb236eb7-8d1e-4bb5-a54f-953dfa7fda35"
      },
      "source": [
        "comparar_clusters(*np.unique(clusters))"
      ],
      "execution_count": 29,
      "outputs": [
        {
          "output_type": "execute_result",
          "data": {
            "text/html": [
              "<div>\n",
              "<style scoped>\n",
              "    .dataframe tbody tr th:only-of-type {\n",
              "        vertical-align: middle;\n",
              "    }\n",
              "\n",
              "    .dataframe tbody tr th {\n",
              "        vertical-align: top;\n",
              "    }\n",
              "\n",
              "    .dataframe thead th {\n",
              "        text-align: right;\n",
              "    }\n",
              "</style>\n",
              "<table border=\"1\" class=\"dataframe\">\n",
              "  <thead>\n",
              "    <tr style=\"text-align: right;\">\n",
              "      <th>cluster_id</th>\n",
              "      <th>0</th>\n",
              "      <th>1</th>\n",
              "      <th>2</th>\n",
              "      <th>3</th>\n",
              "      <th>4</th>\n",
              "      <th>5</th>\n",
              "      <th>6</th>\n",
              "      <th>7</th>\n",
              "    </tr>\n",
              "  </thead>\n",
              "  <tbody>\n",
              "    <tr>\n",
              "      <th>cilindros</th>\n",
              "      <td>6.18466</td>\n",
              "      <td>6.20264</td>\n",
              "      <td>4.03396</td>\n",
              "      <td>5.52213</td>\n",
              "      <td>5.59425</td>\n",
              "      <td>7.37377</td>\n",
              "      <td>8.65565</td>\n",
              "      <td>4.48857</td>\n",
              "    </tr>\n",
              "    <tr>\n",
              "      <th>clase_tipo</th>\n",
              "      <td>Coches pequeños</td>\n",
              "      <td>Camionetas</td>\n",
              "      <td>Coches pequeños</td>\n",
              "      <td>Coches pequeños</td>\n",
              "      <td>Coches pequeños</td>\n",
              "      <td>Camionetas</td>\n",
              "      <td>Coches pequeños</td>\n",
              "      <td>Coches pequeños</td>\n",
              "    </tr>\n",
              "    <tr>\n",
              "      <th>co2</th>\n",
              "      <td>469.114</td>\n",
              "      <td>531.537</td>\n",
              "      <td>328.172</td>\n",
              "      <td>425.338</td>\n",
              "      <td>468.712</td>\n",
              "      <td>659.006</td>\n",
              "      <td>627.458</td>\n",
              "      <td>406.408</td>\n",
              "    </tr>\n",
              "    <tr>\n",
              "      <th>co2_tipo</th>\n",
              "      <td>moderado</td>\n",
              "      <td>alto</td>\n",
              "      <td>muy bajo</td>\n",
              "      <td>bajo</td>\n",
              "      <td>moderado</td>\n",
              "      <td>muy alto</td>\n",
              "      <td>muy alto</td>\n",
              "      <td>bajo</td>\n",
              "    </tr>\n",
              "    <tr>\n",
              "      <th>combustible_tipo</th>\n",
              "      <td>Premium</td>\n",
              "      <td>Normal</td>\n",
              "      <td>Normal</td>\n",
              "      <td>Premium</td>\n",
              "      <td>Normal</td>\n",
              "      <td>Normal</td>\n",
              "      <td>Premium</td>\n",
              "      <td>Normal</td>\n",
              "    </tr>\n",
              "    <tr>\n",
              "      <th>consumo_litros_milla</th>\n",
              "      <td>0.199899</td>\n",
              "      <td>0.226022</td>\n",
              "      <td>0.139771</td>\n",
              "      <td>0.181132</td>\n",
              "      <td>0.199461</td>\n",
              "      <td>0.280725</td>\n",
              "      <td>0.263761</td>\n",
              "      <td>0.172841</td>\n",
              "    </tr>\n",
              "    <tr>\n",
              "      <th>consumo_tipo</th>\n",
              "      <td>moderado</td>\n",
              "      <td>alto</td>\n",
              "      <td>muy bajo</td>\n",
              "      <td>bajo</td>\n",
              "      <td>moderado</td>\n",
              "      <td>muy alto</td>\n",
              "      <td>muy alto</td>\n",
              "      <td>bajo</td>\n",
              "    </tr>\n",
              "    <tr>\n",
              "      <th>desplazamiento</th>\n",
              "      <td>3.41397</td>\n",
              "      <td>3.86337</td>\n",
              "      <td>1.91624</td>\n",
              "      <td>2.91896</td>\n",
              "      <td>3.18452</td>\n",
              "      <td>4.87786</td>\n",
              "      <td>5.47641</td>\n",
              "      <td>2.45725</td>\n",
              "    </tr>\n",
              "    <tr>\n",
              "      <th>tamano_motor_tipo</th>\n",
              "      <td>mediano</td>\n",
              "      <td>grande</td>\n",
              "      <td>muy pequeño</td>\n",
              "      <td>mediano</td>\n",
              "      <td>mediano</td>\n",
              "      <td>muy grande</td>\n",
              "      <td>muy grande</td>\n",
              "      <td>pequeño</td>\n",
              "    </tr>\n",
              "    <tr>\n",
              "      <th>traccion_tipo</th>\n",
              "      <td>dos</td>\n",
              "      <td>dos</td>\n",
              "      <td>dos</td>\n",
              "      <td>dos</td>\n",
              "      <td>dos</td>\n",
              "      <td>dos</td>\n",
              "      <td>dos</td>\n",
              "      <td>dos</td>\n",
              "    </tr>\n",
              "    <tr>\n",
              "      <th>transmision_tipo</th>\n",
              "      <td>Automatica</td>\n",
              "      <td>Automatica</td>\n",
              "      <td>Automatica</td>\n",
              "      <td>Automatica</td>\n",
              "      <td>Automatica</td>\n",
              "      <td>Automatica</td>\n",
              "      <td>Automatica</td>\n",
              "      <td>Automatica</td>\n",
              "    </tr>\n",
              "    <tr>\n",
              "      <th>year</th>\n",
              "      <td>2003.61</td>\n",
              "      <td>1999.25</td>\n",
              "      <td>2003.34</td>\n",
              "      <td>2007.25</td>\n",
              "      <td>1997.78</td>\n",
              "      <td>1994.64</td>\n",
              "      <td>2004.33</td>\n",
              "      <td>1999.32</td>\n",
              "    </tr>\n",
              "  </tbody>\n",
              "</table>\n",
              "</div>"
            ],
            "text/plain": [
              "cluster_id                          0  ...                7\n",
              "cilindros                     6.18466  ...          4.48857\n",
              "clase_tipo            Coches pequeños  ...  Coches pequeños\n",
              "co2                           469.114  ...          406.408\n",
              "co2_tipo                     moderado  ...             bajo\n",
              "combustible_tipo              Premium  ...           Normal\n",
              "consumo_litros_milla         0.199899  ...         0.172841\n",
              "consumo_tipo                 moderado  ...             bajo\n",
              "desplazamiento                3.41397  ...          2.45725\n",
              "tamano_motor_tipo             mediano  ...          pequeño\n",
              "traccion_tipo                     dos  ...              dos\n",
              "transmision_tipo           Automatica  ...       Automatica\n",
              "year                          2003.61  ...          1999.32\n",
              "\n",
              "[12 rows x 8 columns]"
            ]
          },
          "metadata": {
            "tags": []
          },
          "execution_count": 29
        }
      ]
    },
    {
      "cell_type": "markdown",
      "metadata": {
        "id": "DeCusiEdTkL9",
        "colab_type": "text"
      },
      "source": [
        "Una parte del framework que me gusta utilizar en la fase de Análisis Exploratorio de Datos [(link al notebook)](https://github.com/manugarri/curso_data_science/tree/master/Secciones/Seccion2.Analisis_y_procesado_de_datos/Analisis_Exploratorio_de_Datos), es incluir un clustering para indicar posibles grupos naturales en el dataset. Ésto por supuesto está también indicado en el artículo original que explica este framework ([link en inglés](http://blog.districtdatalabs.com/data-exploration-with-python-2))"
      ]
    },
    {
      "cell_type": "code",
      "metadata": {
        "id": "MfZF_FrXTkMB",
        "colab_type": "code",
        "colab": {}
      },
      "source": [
        "def kmeans_cluster(df, n_clusters=2):\n",
        "    model = KMeans(n_clusters=n_clusters, random_state=42)\n",
        "    clusters = model.fit_predict(df)\n",
        "    cluster_results = df.copy()\n",
        "    cluster_results['Cluster'] = clusters\n",
        "    return cluster_results\n",
        "\n",
        "def resumen_grafico_clustering(results):\n",
        "    cluster_size = results.groupby(['Cluster']).size().reset_index()\n",
        "    cluster_size.columns = ['Cluster', 'Count']\n",
        "    cluster_means = results.groupby(['Cluster'], as_index=False).mean()\n",
        "    cluster_summary = pd.merge(cluster_size, cluster_means, on='Cluster')\n",
        "    cluster_summary = cluster_summary.drop([\"Count\"], axis=1).set_index(\"Cluster\")\n",
        "    return cluster_summary[sorted(cluster_summary.columns)]"
      ],
      "execution_count": 0,
      "outputs": []
    },
    {
      "cell_type": "code",
      "metadata": {
        "id": "GWLvxtT_TkME",
        "colab_type": "code",
        "colab": {}
      },
      "source": [
        "cluster_results = kmeans_cluster(vehiculos_procesado, 8)\n",
        "cluster_summary = resumen_grafico_clustering(cluster_results)"
      ],
      "execution_count": 0,
      "outputs": []
    },
    {
      "cell_type": "code",
      "metadata": {
        "id": "GePHphm9TkMJ",
        "colab_type": "code",
        "colab": {
          "base_uri": "https://localhost:8080/",
          "height": 365
        },
        "outputId": "1bc4955e-0f6e-4285-89d1-9ce3336c99e2"
      },
      "source": [
        "cluster_summary"
      ],
      "execution_count": 32,
      "outputs": [
        {
          "output_type": "execute_result",
          "data": {
            "text/html": [
              "<div>\n",
              "<style scoped>\n",
              "    .dataframe tbody tr th:only-of-type {\n",
              "        vertical-align: middle;\n",
              "    }\n",
              "\n",
              "    .dataframe tbody tr th {\n",
              "        vertical-align: top;\n",
              "    }\n",
              "\n",
              "    .dataframe thead th {\n",
              "        text-align: right;\n",
              "    }\n",
              "</style>\n",
              "<table border=\"1\" class=\"dataframe\">\n",
              "  <thead>\n",
              "    <tr style=\"text-align: right;\">\n",
              "      <th></th>\n",
              "      <th>cilindros</th>\n",
              "      <th>clase_tipo_Coche Familiar</th>\n",
              "      <th>clase_tipo_Coches Grandes</th>\n",
              "      <th>clase_tipo_Coches Medianos</th>\n",
              "      <th>clase_tipo_Coches pequeños</th>\n",
              "      <th>clase_tipo_Deportivos</th>\n",
              "      <th>clase_tipo_Furgoneta</th>\n",
              "      <th>clase_tipo_Vehículos Especiales</th>\n",
              "      <th>co2</th>\n",
              "      <th>co2_tipo_bajo</th>\n",
              "      <th>co2_tipo_moderado</th>\n",
              "      <th>co2_tipo_muy alto</th>\n",
              "      <th>co2_tipo_muy bajo</th>\n",
              "      <th>combustible_tipo_Normal</th>\n",
              "      <th>combustible_tipo_Otros tipos de combustible</th>\n",
              "      <th>combustible_tipo_Premium</th>\n",
              "      <th>consumo_litros_milla</th>\n",
              "      <th>consumo_tipo_bajo</th>\n",
              "      <th>consumo_tipo_moderado</th>\n",
              "      <th>consumo_tipo_muy alto</th>\n",
              "      <th>consumo_tipo_muy bajo</th>\n",
              "      <th>desplazamiento</th>\n",
              "      <th>tamano_motor_tipo_mediano</th>\n",
              "      <th>tamano_motor_tipo_muy grande</th>\n",
              "      <th>tamano_motor_tipo_muy pequeño</th>\n",
              "      <th>tamano_motor_tipo_pequeño</th>\n",
              "      <th>traccion_tipo_dos</th>\n",
              "      <th>transmision_tipo_Manual</th>\n",
              "      <th>year</th>\n",
              "    </tr>\n",
              "    <tr>\n",
              "      <th>Cluster</th>\n",
              "      <th></th>\n",
              "      <th></th>\n",
              "      <th></th>\n",
              "      <th></th>\n",
              "      <th></th>\n",
              "      <th></th>\n",
              "      <th></th>\n",
              "      <th></th>\n",
              "      <th></th>\n",
              "      <th></th>\n",
              "      <th></th>\n",
              "      <th></th>\n",
              "      <th></th>\n",
              "      <th></th>\n",
              "      <th></th>\n",
              "      <th></th>\n",
              "      <th></th>\n",
              "      <th></th>\n",
              "      <th></th>\n",
              "      <th></th>\n",
              "      <th></th>\n",
              "      <th></th>\n",
              "      <th></th>\n",
              "      <th></th>\n",
              "      <th></th>\n",
              "      <th></th>\n",
              "      <th></th>\n",
              "      <th></th>\n",
              "      <th></th>\n",
              "    </tr>\n",
              "  </thead>\n",
              "  <tbody>\n",
              "    <tr>\n",
              "      <th>0</th>\n",
              "      <td>0.298904</td>\n",
              "      <td>0.086086</td>\n",
              "      <td>0.078023</td>\n",
              "      <td>0.194018</td>\n",
              "      <td>0.564109</td>\n",
              "      <td>0.069961</td>\n",
              "      <td>0.000780</td>\n",
              "      <td>0.003641</td>\n",
              "      <td>0.354767</td>\n",
              "      <td>0.000000</td>\n",
              "      <td>0.982835</td>\n",
              "      <td>0.000000</td>\n",
              "      <td>0.000000</td>\n",
              "      <td>0.000000</td>\n",
              "      <td>0.007282</td>\n",
              "      <td>0.992198</td>\n",
              "      <td>0.283137</td>\n",
              "      <td>0.001821</td>\n",
              "      <td>0.997399</td>\n",
              "      <td>0.000000</td>\n",
              "      <td>0.000260</td>\n",
              "      <td>0.360765</td>\n",
              "      <td>0.388817</td>\n",
              "      <td>0.100910</td>\n",
              "      <td>0.051495</td>\n",
              "      <td>0.164889</td>\n",
              "      <td>0.673342</td>\n",
              "      <td>0.275683</td>\n",
              "      <td>0.576884</td>\n",
              "    </tr>\n",
              "    <tr>\n",
              "      <th>1</th>\n",
              "      <td>0.300188</td>\n",
              "      <td>0.023452</td>\n",
              "      <td>0.035837</td>\n",
              "      <td>0.042424</td>\n",
              "      <td>0.039526</td>\n",
              "      <td>0.275362</td>\n",
              "      <td>0.103030</td>\n",
              "      <td>0.136232</td>\n",
              "      <td>0.405085</td>\n",
              "      <td>0.013702</td>\n",
              "      <td>0.023979</td>\n",
              "      <td>0.002899</td>\n",
              "      <td>0.008696</td>\n",
              "      <td>0.864822</td>\n",
              "      <td>0.035573</td>\n",
              "      <td>0.098287</td>\n",
              "      <td>0.338074</td>\n",
              "      <td>0.023188</td>\n",
              "      <td>0.021871</td>\n",
              "      <td>0.000000</td>\n",
              "      <td>0.020553</td>\n",
              "      <td>0.418381</td>\n",
              "      <td>0.278524</td>\n",
              "      <td>0.129381</td>\n",
              "      <td>0.008696</td>\n",
              "      <td>0.058498</td>\n",
              "      <td>0.547299</td>\n",
              "      <td>0.271146</td>\n",
              "      <td>0.448508</td>\n",
              "    </tr>\n",
              "    <tr>\n",
              "      <th>2</th>\n",
              "      <td>0.145300</td>\n",
              "      <td>0.117846</td>\n",
              "      <td>0.017589</td>\n",
              "      <td>0.139223</td>\n",
              "      <td>0.629549</td>\n",
              "      <td>0.078474</td>\n",
              "      <td>0.001624</td>\n",
              "      <td>0.007712</td>\n",
              "      <td>0.241157</td>\n",
              "      <td>0.005006</td>\n",
              "      <td>0.000541</td>\n",
              "      <td>0.000000</td>\n",
              "      <td>0.993235</td>\n",
              "      <td>0.762955</td>\n",
              "      <td>0.052632</td>\n",
              "      <td>0.176025</td>\n",
              "      <td>0.156687</td>\n",
              "      <td>0.000000</td>\n",
              "      <td>0.000135</td>\n",
              "      <td>0.000000</td>\n",
              "      <td>0.998647</td>\n",
              "      <td>0.168773</td>\n",
              "      <td>0.026925</td>\n",
              "      <td>0.000000</td>\n",
              "      <td>0.754566</td>\n",
              "      <td>0.217968</td>\n",
              "      <td>0.910702</td>\n",
              "      <td>0.486132</td>\n",
              "      <td>0.568688</td>\n",
              "    </tr>\n",
              "    <tr>\n",
              "      <th>3</th>\n",
              "      <td>0.251581</td>\n",
              "      <td>0.060453</td>\n",
              "      <td>0.037783</td>\n",
              "      <td>0.132422</td>\n",
              "      <td>0.695574</td>\n",
              "      <td>0.070529</td>\n",
              "      <td>0.000000</td>\n",
              "      <td>0.001439</td>\n",
              "      <td>0.319480</td>\n",
              "      <td>0.828715</td>\n",
              "      <td>0.038503</td>\n",
              "      <td>0.000000</td>\n",
              "      <td>0.001439</td>\n",
              "      <td>0.000000</td>\n",
              "      <td>0.048579</td>\n",
              "      <td>0.951062</td>\n",
              "      <td>0.243668</td>\n",
              "      <td>0.834833</td>\n",
              "      <td>0.000000</td>\n",
              "      <td>0.000000</td>\n",
              "      <td>0.033825</td>\n",
              "      <td>0.297303</td>\n",
              "      <td>0.429651</td>\n",
              "      <td>0.003958</td>\n",
              "      <td>0.204750</td>\n",
              "      <td>0.170565</td>\n",
              "      <td>0.723642</td>\n",
              "      <td>0.387549</td>\n",
              "      <td>0.683964</td>\n",
              "    </tr>\n",
              "    <tr>\n",
              "      <th>4</th>\n",
              "      <td>0.256734</td>\n",
              "      <td>0.084077</td>\n",
              "      <td>0.090849</td>\n",
              "      <td>0.135613</td>\n",
              "      <td>0.185332</td>\n",
              "      <td>0.171622</td>\n",
              "      <td>0.066402</td>\n",
              "      <td>0.088371</td>\n",
              "      <td>0.354443</td>\n",
              "      <td>0.000000</td>\n",
              "      <td>0.998844</td>\n",
              "      <td>0.000000</td>\n",
              "      <td>0.000000</td>\n",
              "      <td>0.946812</td>\n",
              "      <td>0.053188</td>\n",
              "      <td>0.000000</td>\n",
              "      <td>0.282215</td>\n",
              "      <td>0.011067</td>\n",
              "      <td>0.984143</td>\n",
              "      <td>0.000000</td>\n",
              "      <td>0.004790</td>\n",
              "      <td>0.331349</td>\n",
              "      <td>0.439214</td>\n",
              "      <td>0.057152</td>\n",
              "      <td>0.048893</td>\n",
              "      <td>0.219689</td>\n",
              "      <td>0.784440</td>\n",
              "      <td>0.252395</td>\n",
              "      <td>0.405352</td>\n",
              "    </tr>\n",
              "    <tr>\n",
              "      <th>5</th>\n",
              "      <td>0.383841</td>\n",
              "      <td>0.001971</td>\n",
              "      <td>0.016203</td>\n",
              "      <td>0.017955</td>\n",
              "      <td>0.031531</td>\n",
              "      <td>0.132253</td>\n",
              "      <td>0.233852</td>\n",
              "      <td>0.142763</td>\n",
              "      <td>0.507836</td>\n",
              "      <td>0.000000</td>\n",
              "      <td>0.000000</td>\n",
              "      <td>1.000000</td>\n",
              "      <td>0.000000</td>\n",
              "      <td>1.000000</td>\n",
              "      <td>0.000000</td>\n",
              "      <td>0.000000</td>\n",
              "      <td>0.453114</td>\n",
              "      <td>0.000000</td>\n",
              "      <td>0.000000</td>\n",
              "      <td>1.000000</td>\n",
              "      <td>0.000000</td>\n",
              "      <td>0.548444</td>\n",
              "      <td>0.079483</td>\n",
              "      <td>0.649880</td>\n",
              "      <td>0.000876</td>\n",
              "      <td>0.011605</td>\n",
              "      <td>0.563171</td>\n",
              "      <td>0.264944</td>\n",
              "      <td>0.313071</td>\n",
              "    </tr>\n",
              "    <tr>\n",
              "      <th>6</th>\n",
              "      <td>0.475404</td>\n",
              "      <td>0.010216</td>\n",
              "      <td>0.090144</td>\n",
              "      <td>0.084736</td>\n",
              "      <td>0.310998</td>\n",
              "      <td>0.206430</td>\n",
              "      <td>0.084135</td>\n",
              "      <td>0.036358</td>\n",
              "      <td>0.482405</td>\n",
              "      <td>0.000000</td>\n",
              "      <td>0.014123</td>\n",
              "      <td>0.773438</td>\n",
              "      <td>0.000000</td>\n",
              "      <td>0.000000</td>\n",
              "      <td>0.376803</td>\n",
              "      <td>0.623197</td>\n",
              "      <td>0.417440</td>\n",
              "      <td>0.013522</td>\n",
              "      <td>0.061298</td>\n",
              "      <td>0.664964</td>\n",
              "      <td>0.000000</td>\n",
              "      <td>0.625181</td>\n",
              "      <td>0.041767</td>\n",
              "      <td>0.825421</td>\n",
              "      <td>0.000000</td>\n",
              "      <td>0.002404</td>\n",
              "      <td>0.636418</td>\n",
              "      <td>0.171575</td>\n",
              "      <td>0.597842</td>\n",
              "    </tr>\n",
              "    <tr>\n",
              "      <th>7</th>\n",
              "      <td>0.177773</td>\n",
              "      <td>0.103736</td>\n",
              "      <td>0.048092</td>\n",
              "      <td>0.153418</td>\n",
              "      <td>0.357909</td>\n",
              "      <td>0.172695</td>\n",
              "      <td>0.010930</td>\n",
              "      <td>0.062401</td>\n",
              "      <td>0.304221</td>\n",
              "      <td>0.991256</td>\n",
              "      <td>0.008545</td>\n",
              "      <td>0.000000</td>\n",
              "      <td>0.000199</td>\n",
              "      <td>0.965421</td>\n",
              "      <td>0.034579</td>\n",
              "      <td>0.000000</td>\n",
              "      <td>0.226233</td>\n",
              "      <td>0.985890</td>\n",
              "      <td>0.000000</td>\n",
              "      <td>0.000000</td>\n",
              "      <td>0.014110</td>\n",
              "      <td>0.238130</td>\n",
              "      <td>0.156200</td>\n",
              "      <td>0.010135</td>\n",
              "      <td>0.311606</td>\n",
              "      <td>0.461248</td>\n",
              "      <td>0.799086</td>\n",
              "      <td>0.354928</td>\n",
              "      <td>0.450704</td>\n",
              "    </tr>\n",
              "  </tbody>\n",
              "</table>\n",
              "</div>"
            ],
            "text/plain": [
              "         cilindros  ...      year\n",
              "Cluster             ...          \n",
              "0         0.298904  ...  0.576884\n",
              "1         0.300188  ...  0.448508\n",
              "2         0.145300  ...  0.568688\n",
              "3         0.251581  ...  0.683964\n",
              "4         0.256734  ...  0.405352\n",
              "5         0.383841  ...  0.313071\n",
              "6         0.475404  ...  0.597842\n",
              "7         0.177773  ...  0.450704\n",
              "\n",
              "[8 rows x 29 columns]"
            ]
          },
          "metadata": {
            "tags": []
          },
          "execution_count": 32
        }
      ]
    },
    {
      "cell_type": "code",
      "metadata": {
        "id": "E1UvLJgTTkMQ",
        "colab_type": "code",
        "colab": {}
      },
      "source": [
        "matplotlib.rcParams['figure.figsize'] = [14, 14]"
      ],
      "execution_count": 0,
      "outputs": []
    },
    {
      "cell_type": "code",
      "metadata": {
        "id": "4Uj8FaDKTkMU",
        "colab_type": "code",
        "colab": {
          "base_uri": "https://localhost:8080/",
          "height": 847
        },
        "outputId": "56f3a8d9-1b34-4378-81ef-cba1d890f693"
      },
      "source": [
        "import seaborn as sns\n",
        "sns.heatmap(cluster_summary.transpose(), annot=True);"
      ],
      "execution_count": 34,
      "outputs": [
        {
          "output_type": "display_data",
          "data": {
            "image/png": "[encoded data removed]",
            "text/plain": [
              "<Figure size 1008x1008 with 2 Axes>"
            ]
          },
          "metadata": {
            "tags": []
          }
        }
      ]
    },
    {
      "cell_type": "markdown",
      "metadata": {
        "id": "34Gv5bW_TkMX",
        "colab_type": "text"
      },
      "source": [
        "#### MiniBatchKMeans\n",
        "\n",
        "`scikit-learn` tiene una implementación distinta del algoritmo K-medias, llamada `MiniBatchKMeans`. Esta implementación procesa el dataset por bloques, y permite hacer análisis de clusters con datasets que no cabrían en memoria completamente. Funciona de forma más rapida que `KMeans` con el coste de potencialmente producir clusters con una inercia mayor.\n",
        "\n",
        "La api es la misma, simplemente toma un parámetro adicional `batch_size` que indica cuantos elementos tomar en cada bloque."
      ]
    },
    {
      "cell_type": "code",
      "metadata": {
        "collapsed": true,
        "id": "tvxVmvAzTkMX",
        "colab_type": "code",
        "colab": {}
      },
      "source": [
        "from sklearn.cluster import MiniBatchKMeans"
      ],
      "execution_count": 0,
      "outputs": []
    },
    {
      "cell_type": "code",
      "metadata": {
        "id": "SHvylj-pTkMa",
        "colab_type": "code",
        "colab": {},
        "outputId": "3079e7db-eacc-4107-a039-23655a70055b"
      },
      "source": [
        "%%timeit -n 1\n",
        "estimador_kmedias = KMeans(random_state=42, n_clusters=8).fit(vehiculos_procesado)"
      ],
      "execution_count": 0,
      "outputs": [
        {
          "output_type": "stream",
          "text": [
            "1.53 s ± 22.1 ms per loop (mean ± std. dev. of 7 runs, 1 loop each)\n"
          ],
          "name": "stdout"
        }
      ]
    },
    {
      "cell_type": "code",
      "metadata": {
        "id": "EIPresVOTkMe",
        "colab_type": "code",
        "colab": {},
        "outputId": "821ac695-daa5-406b-a20d-dabae91ec98e"
      },
      "source": [
        "estimador_kmedias.inertia_"
      ],
      "execution_count": 0,
      "outputs": [
        {
          "output_type": "execute_result",
          "data": {
            "text/plain": [
              "66396.120863718956"
            ]
          },
          "metadata": {
            "tags": []
          },
          "execution_count": 52
        }
      ]
    },
    {
      "cell_type": "code",
      "metadata": {
        "id": "26IYXgNATkMh",
        "colab_type": "code",
        "colab": {},
        "outputId": "a5d65a94-0693-4814-84e9-49da5db58d9f"
      },
      "source": [
        "%%timeit -n 1\n",
        "estimador_kmedias_minibatch = MiniBatchKMeans(random_state=42, n_clusters=8).fit(\n",
        "    vehiculos_procesado)"
      ],
      "execution_count": 0,
      "outputs": [
        {
          "output_type": "stream",
          "text": [
            "69.8 ms ± 4.86 ms per loop (mean ± std. dev. of 7 runs, 1 loop each)\n"
          ],
          "name": "stdout"
        }
      ]
    },
    {
      "cell_type": "code",
      "metadata": {
        "id": "hNhK-DZFTkMj",
        "colab_type": "code",
        "colab": {},
        "outputId": "83609a47-20a5-48fc-94ad-58201eb6dc93"
      },
      "source": [
        "estimador_kmedias_minibatch.inertia_"
      ],
      "execution_count": 0,
      "outputs": [
        {
          "output_type": "execute_result",
          "data": {
            "text/plain": [
              "67974.122551466891"
            ]
          },
          "metadata": {
            "tags": []
          },
          "execution_count": 60
        }
      ]
    },
    {
      "cell_type": "markdown",
      "metadata": {
        "id": "rM-HjQMcTkMl",
        "colab_type": "text"
      },
      "source": [
        "Vemos que MiniBatchKMeans produce unos clusters con un 8% más de inercia. En este caso no hay mejora de tiempo por que el dataset es pequeño (36,000 observaciones)."
      ]
    },
    {
      "cell_type": "markdown",
      "metadata": {
        "id": "_2KGuJEGTkMm",
        "colab_type": "text"
      },
      "source": [
        "# ¿Cómo elegir K?\n",
        "\n",
        "Hay varias opciones para elegir K\n",
        "\n",
        "**1.Conocimiento de dominio**\n",
        "A veces es posible tomar una decisión razonable a priori respecto al número de clusters que queremos. Por ejemplo, supongamos que queremos agrupar un conjunto de películas. Un valor razonable de K sería el número de categorías de películas en IMDB.\n",
        "\n",
        "**2. Decisión de negocio**\n",
        "Hay veces que la decisión del número de clusters viene dada por el negocio. Por ejemplo, supongamos que estamos agrupando un conjunto de invitados a un banquete. En ese caso el valor de K vendría dado por el número disponible de mesas.\n",
        "\n",
        "**3.Método del codo ([elbow method](https://en.wikipedia.org/wiki/Elbow_method_(clustering)))**\n",
        "El método del codo usa como métrica el porcentaje de la varianza explicado como factor respecto al número de clusters. Se intenta buscar aquel número de clusters donde el añadir un cluster más no aumente demasiado dicho porcentaje (es decir, el \"codo\" de la gráfica que representa esto implica llegar al punto de ganancias decrecientes, donde añadir un cluster nuevo no reduce la varianza de forma significativa.\n",
        "El porcentaje de la varianza se representa como la variance entre grupos dividida de la varianza total"
      ]
    },
    {
      "cell_type": "code",
      "metadata": {
        "id": "V7FJvLgGTkMn",
        "colab_type": "code",
        "colab": {}
      },
      "source": [
        "from scipy.spatial.distance import cdist"
      ],
      "execution_count": 0,
      "outputs": []
    },
    {
      "cell_type": "code",
      "metadata": {
        "id": "_7DMZfSqTkMp",
        "colab_type": "code",
        "colab": {},
        "outputId": "3e26b382-b487-4f4d-cad1-30595e4e420a"
      },
      "source": [
        "print(cdist.__doc__)"
      ],
      "execution_count": 0,
      "outputs": [
        {
          "output_type": "stream",
          "text": [
            "\n",
            "    Computes distance between each pair of the two collections of inputs.\n",
            "\n",
            "    See Notes for common calling conventions.\n",
            "\n",
            "    Parameters\n",
            "    ----------\n",
            "    XA : ndarray\n",
            "        An :math:`m_A` by :math:`n` array of :math:`m_A`\n",
            "        original observations in an :math:`n`-dimensional space.\n",
            "        Inputs are converted to float type.\n",
            "    XB : ndarray\n",
            "        An :math:`m_B` by :math:`n` array of :math:`m_B`\n",
            "        original observations in an :math:`n`-dimensional space.\n",
            "        Inputs are converted to float type.\n",
            "    metric : str or callable, optional\n",
            "        The distance metric to use.  If a string, the distance function can be\n",
            "        'braycurtis', 'canberra', 'chebyshev', 'cityblock', 'correlation',\n",
            "        'cosine', 'dice', 'euclidean', 'hamming', 'jaccard', 'kulsinski',\n",
            "        'mahalanobis', 'matching', 'minkowski', 'rogerstanimoto', 'russellrao',\n",
            "        'seuclidean', 'sokalmichener', 'sokalsneath', 'sqeuclidean',\n",
            "        'wminkowski', 'yule'.\n",
            "    *args : tuple. Deprecated.\n",
            "        Additional arguments should be passed as keyword arguments\n",
            "    **kwargs : dict, optional\n",
            "        Extra arguments to `metric`: refer to each metric documentation for a\n",
            "        list of all possible arguments.\n",
            "\n",
            "        Some possible arguments:\n",
            "\n",
            "        p : scalar\n",
            "        The p-norm to apply for Minkowski, weighted and unweighted.\n",
            "        Default: 2.\n",
            "\n",
            "        w : ndarray\n",
            "        The weight vector for metrics that support weights (e.g., Minkowski).\n",
            "\n",
            "        V : ndarray\n",
            "        The variance vector for standardized Euclidean.\n",
            "        Default: var(vstack([XA, XB]), axis=0, ddof=1)\n",
            "\n",
            "        VI : ndarray\n",
            "        The inverse of the covariance matrix for Mahalanobis.\n",
            "        Default: inv(cov(vstack([XA, XB].T))).T\n",
            "\n",
            "        out : ndarray\n",
            "        The output array\n",
            "        If not None, the distance matrix Y is stored in this array.\n",
            "        Note: metric independent, it will become a regular keyword arg in a\n",
            "        future scipy version\n",
            "\n",
            "    Returns\n",
            "    -------\n",
            "    Y : ndarray\n",
            "        A :math:`m_A` by :math:`m_B` distance matrix is returned.\n",
            "        For each :math:`i` and :math:`j`, the metric\n",
            "        ``dist(u=XA[i], v=XB[j])`` is computed and stored in the\n",
            "        :math:`ij` th entry.\n",
            "\n",
            "    Raises\n",
            "    ------\n",
            "    ValueError\n",
            "        An exception is thrown if `XA` and `XB` do not have\n",
            "        the same number of columns.\n",
            "\n",
            "    Notes\n",
            "    -----\n",
            "    The following are common calling conventions:\n",
            "\n",
            "    1. ``Y = cdist(XA, XB, 'euclidean')``\n",
            "\n",
            "       Computes the distance between :math:`m` points using\n",
            "       Euclidean distance (2-norm) as the distance metric between the\n",
            "       points. The points are arranged as :math:`m`\n",
            "       :math:`n`-dimensional row vectors in the matrix X.\n",
            "\n",
            "    2. ``Y = cdist(XA, XB, 'minkowski', p=2.)``\n",
            "\n",
            "       Computes the distances using the Minkowski distance\n",
            "       :math:`||u-v||_p` (:math:`p`-norm) where :math:`p \\geq 1`.\n",
            "\n",
            "    3. ``Y = cdist(XA, XB, 'cityblock')``\n",
            "\n",
            "       Computes the city block or Manhattan distance between the\n",
            "       points.\n",
            "\n",
            "    4. ``Y = cdist(XA, XB, 'seuclidean', V=None)``\n",
            "\n",
            "       Computes the standardized Euclidean distance. The standardized\n",
            "       Euclidean distance between two n-vectors ``u`` and ``v`` is\n",
            "\n",
            "       .. math::\n",
            "\n",
            "          \\sqrt{\\sum {(u_i-v_i)^2 / V[x_i]}}.\n",
            "\n",
            "       V is the variance vector; V[i] is the variance computed over all\n",
            "       the i'th components of the points. If not passed, it is\n",
            "       automatically computed.\n",
            "\n",
            "    5. ``Y = cdist(XA, XB, 'sqeuclidean')``\n",
            "\n",
            "       Computes the squared Euclidean distance :math:`||u-v||_2^2` between\n",
            "       the vectors.\n",
            "\n",
            "    6. ``Y = cdist(XA, XB, 'cosine')``\n",
            "\n",
            "       Computes the cosine distance between vectors u and v,\n",
            "\n",
            "       .. math::\n",
            "\n",
            "          1 - \\frac{u \\cdot v}\n",
            "                   {{||u||}_2 {||v||}_2}\n",
            "\n",
            "       where :math:`||*||_2` is the 2-norm of its argument ``*``, and\n",
            "       :math:`u \\cdot v` is the dot product of :math:`u` and :math:`v`.\n",
            "\n",
            "    7. ``Y = cdist(XA, XB, 'correlation')``\n",
            "\n",
            "       Computes the correlation distance between vectors u and v. This is\n",
            "\n",
            "       .. math::\n",
            "\n",
            "          1 - \\frac{(u - \\bar{u}) \\cdot (v - \\bar{v})}\n",
            "                   {{||(u - \\bar{u})||}_2 {||(v - \\bar{v})||}_2}\n",
            "\n",
            "       where :math:`\\bar{v}` is the mean of the elements of vector v,\n",
            "       and :math:`x \\cdot y` is the dot product of :math:`x` and :math:`y`.\n",
            "\n",
            "\n",
            "    8. ``Y = cdist(XA, XB, 'hamming')``\n",
            "\n",
            "       Computes the normalized Hamming distance, or the proportion of\n",
            "       those vector elements between two n-vectors ``u`` and ``v``\n",
            "       which disagree. To save memory, the matrix ``X`` can be of type\n",
            "       boolean.\n",
            "\n",
            "    9. ``Y = cdist(XA, XB, 'jaccard')``\n",
            "\n",
            "       Computes the Jaccard distance between the points. Given two\n",
            "       vectors, ``u`` and ``v``, the Jaccard distance is the\n",
            "       proportion of those elements ``u[i]`` and ``v[i]`` that\n",
            "       disagree where at least one of them is non-zero.\n",
            "\n",
            "    10. ``Y = cdist(XA, XB, 'chebyshev')``\n",
            "\n",
            "       Computes the Chebyshev distance between the points. The\n",
            "       Chebyshev distance between two n-vectors ``u`` and ``v`` is the\n",
            "       maximum norm-1 distance between their respective elements. More\n",
            "       precisely, the distance is given by\n",
            "\n",
            "       .. math::\n",
            "\n",
            "          d(u,v) = \\max_i {|u_i-v_i|}.\n",
            "\n",
            "    11. ``Y = cdist(XA, XB, 'canberra')``\n",
            "\n",
            "       Computes the Canberra distance between the points. The\n",
            "       Canberra distance between two points ``u`` and ``v`` is\n",
            "\n",
            "       .. math::\n",
            "\n",
            "         d(u,v) = \\sum_i \\frac{|u_i-v_i|}\n",
            "                              {|u_i|+|v_i|}.\n",
            "\n",
            "    12. ``Y = cdist(XA, XB, 'braycurtis')``\n",
            "\n",
            "       Computes the Bray-Curtis distance between the points. The\n",
            "       Bray-Curtis distance between two points ``u`` and ``v`` is\n",
            "\n",
            "\n",
            "       .. math::\n",
            "\n",
            "            d(u,v) = \\frac{\\sum_i (|u_i-v_i|)}\n",
            "                          {\\sum_i (|u_i+v_i|)}\n",
            "\n",
            "    13. ``Y = cdist(XA, XB, 'mahalanobis', VI=None)``\n",
            "\n",
            "       Computes the Mahalanobis distance between the points. The\n",
            "       Mahalanobis distance between two points ``u`` and ``v`` is\n",
            "       :math:`\\sqrt{(u-v)(1/V)(u-v)^T}` where :math:`(1/V)` (the ``VI``\n",
            "       variable) is the inverse covariance. If ``VI`` is not None,\n",
            "       ``VI`` will be used as the inverse covariance matrix.\n",
            "\n",
            "    14. ``Y = cdist(XA, XB, 'yule')``\n",
            "\n",
            "       Computes the Yule distance between the boolean\n",
            "       vectors. (see `yule` function documentation)\n",
            "\n",
            "    15. ``Y = cdist(XA, XB, 'matching')``\n",
            "\n",
            "       Synonym for 'hamming'.\n",
            "\n",
            "    16. ``Y = cdist(XA, XB, 'dice')``\n",
            "\n",
            "       Computes the Dice distance between the boolean vectors. (see\n",
            "       `dice` function documentation)\n",
            "\n",
            "    17. ``Y = cdist(XA, XB, 'kulsinski')``\n",
            "\n",
            "       Computes the Kulsinski distance between the boolean\n",
            "       vectors. (see `kulsinski` function documentation)\n",
            "\n",
            "    18. ``Y = cdist(XA, XB, 'rogerstanimoto')``\n",
            "\n",
            "       Computes the Rogers-Tanimoto distance between the boolean\n",
            "       vectors. (see `rogerstanimoto` function documentation)\n",
            "\n",
            "    19. ``Y = cdist(XA, XB, 'russellrao')``\n",
            "\n",
            "       Computes the Russell-Rao distance between the boolean\n",
            "       vectors. (see `russellrao` function documentation)\n",
            "\n",
            "    20. ``Y = cdist(XA, XB, 'sokalmichener')``\n",
            "\n",
            "       Computes the Sokal-Michener distance between the boolean\n",
            "       vectors. (see `sokalmichener` function documentation)\n",
            "\n",
            "    21. ``Y = cdist(XA, XB, 'sokalsneath')``\n",
            "\n",
            "       Computes the Sokal-Sneath distance between the vectors. (see\n",
            "       `sokalsneath` function documentation)\n",
            "\n",
            "\n",
            "    22. ``Y = cdist(XA, XB, 'wminkowski', p=2., w=w)``\n",
            "\n",
            "       Computes the weighted Minkowski distance between the\n",
            "       vectors. (see `wminkowski` function documentation)\n",
            "\n",
            "    23. ``Y = cdist(XA, XB, f)``\n",
            "\n",
            "       Computes the distance between all pairs of vectors in X\n",
            "       using the user supplied 2-arity function f. For example,\n",
            "       Euclidean distance between the vectors could be computed\n",
            "       as follows::\n",
            "\n",
            "         dm = cdist(XA, XB, lambda u, v: np.sqrt(((u-v)**2).sum()))\n",
            "\n",
            "       Note that you should avoid passing a reference to one of\n",
            "       the distance functions defined in this library. For example,::\n",
            "\n",
            "         dm = cdist(XA, XB, sokalsneath)\n",
            "\n",
            "       would calculate the pair-wise distances between the vectors in\n",
            "       X using the Python function `sokalsneath`. This would result in\n",
            "       sokalsneath being called :math:`{n \\choose 2}` times, which\n",
            "       is inefficient. Instead, the optimized C version is more\n",
            "       efficient, and we call it using the following syntax::\n",
            "\n",
            "         dm = cdist(XA, XB, 'sokalsneath')\n",
            "\n",
            "    Examples\n",
            "    --------\n",
            "    Find the Euclidean distances between four 2-D coordinates:\n",
            "\n",
            "    >>> from scipy.spatial import distance\n",
            "    >>> coords = [(35.0456, -85.2672),\n",
            "    ...           (35.1174, -89.9711),\n",
            "    ...           (35.9728, -83.9422),\n",
            "    ...           (36.1667, -86.7833)]\n",
            "    >>> distance.cdist(coords, coords, 'euclidean')\n",
            "    array([[ 0.    ,  4.7044,  1.6172,  1.8856],\n",
            "           [ 4.7044,  0.    ,  6.0893,  3.3561],\n",
            "           [ 1.6172,  6.0893,  0.    ,  2.8477],\n",
            "           [ 1.8856,  3.3561,  2.8477,  0.    ]])\n",
            "\n",
            "\n",
            "    Find the Manhattan distance from a 3-D point to the corners of the unit\n",
            "    cube:\n",
            "\n",
            "    >>> a = np.array([[0, 0, 0],\n",
            "    ...               [0, 0, 1],\n",
            "    ...               [0, 1, 0],\n",
            "    ...               [0, 1, 1],\n",
            "    ...               [1, 0, 0],\n",
            "    ...               [1, 0, 1],\n",
            "    ...               [1, 1, 0],\n",
            "    ...               [1, 1, 1]])\n",
            "    >>> b = np.array([[ 0.1,  0.2,  0.4]])\n",
            "    >>> distance.cdist(a, b, 'cityblock')\n",
            "    array([[ 0.7],\n",
            "           [ 0.9],\n",
            "           [ 1.3],\n",
            "           [ 1.5],\n",
            "           [ 1.5],\n",
            "           [ 1.7],\n",
            "           [ 2.1],\n",
            "           [ 2.3]])\n",
            "\n",
            "    \n"
          ],
          "name": "stdout"
        }
      ]
    },
    {
      "cell_type": "code",
      "metadata": {
        "id": "60cqlYIhTkMr",
        "colab_type": "code",
        "colab": {}
      },
      "source": [
        "varianza_total = cdist(XA=vehiculos_procesado, XB=np.array([vehiculos_procesado.mean()]))"
      ],
      "execution_count": 0,
      "outputs": []
    },
    {
      "cell_type": "code",
      "metadata": {
        "id": "Lh7H4s6-TkMu",
        "colab_type": "code",
        "colab": {}
      },
      "source": [
        "suma_varianza_total = varianza_total.sum()"
      ],
      "execution_count": 0,
      "outputs": []
    },
    {
      "cell_type": "code",
      "metadata": {
        "id": "j6KIegurTkMz",
        "colab_type": "code",
        "colab": {},
        "outputId": "092fecc4-faf7-4e77-c30f-251c0ea4a341"
      },
      "source": [
        "suma_varianza_total"
      ],
      "execution_count": 0,
      "outputs": [
        {
          "output_type": "execute_result",
          "data": {
            "text/plain": [
              "70726.299135924026"
            ]
          },
          "metadata": {
            "tags": []
          },
          "execution_count": 154
        }
      ]
    },
    {
      "cell_type": "markdown",
      "metadata": {
        "id": "lgkUnVwFTkM2",
        "colab_type": "text"
      },
      "source": [
        "Ahora creamos funciones para calcular varianza intra cluster (wss) y la medida de varianza explicada (definida como la reduccion de la varianza en porcentaje respecto a la varianza máxima (que sería la varianza para k=1)."
      ]
    },
    {
      "cell_type": "code",
      "metadata": {
        "id": "_CTB9ZcqTkM3",
        "colab_type": "code",
        "colab": {}
      },
      "source": [
        "def varianza_cluster(cluster_id, centroide_cluster, etiquetas_clusters):\n",
        "    elementos_cluster = vehiculos_procesado[etiquetas_clusters==cluster_id]\n",
        "    return cdist(XA=elementos_cluster, XB=np.array([centroide_cluster])).sum()\n",
        "\n",
        "def medida_varianza(estimador_kmedias, suma_varianza_total):\n",
        "    etiquetas_clusters = estimador_kmedias.labels_\n",
        "    wss = 0\n",
        "    for i, cluster_id in enumerate(np.unique(etiquetas_clusters)):\n",
        "        centroide_cluster = estimador_kmedias.cluster_centers_[i]\n",
        "        wss += varianza_cluster(cluster_id, centroide_cluster, etiquetas_clusters)\n",
        "    return (suma_varianza_total-wss) / suma_varianza_total"
      ],
      "execution_count": 0,
      "outputs": []
    },
    {
      "cell_type": "markdown",
      "metadata": {
        "id": "R9CDbABSTkM5",
        "colab_type": "text"
      },
      "source": [
        "Creamos ahora otra medida de evaluación que simplemente usa la inercia"
      ]
    },
    {
      "cell_type": "code",
      "metadata": {
        "id": "veR9wcMCTkM5",
        "colab_type": "code",
        "colab": {}
      },
      "source": [
        "def medida_inercia(estimador_kmedias):\n",
        "    return estimador_kmedias.inertia_"
      ],
      "execution_count": 0,
      "outputs": []
    },
    {
      "cell_type": "markdown",
      "metadata": {
        "id": "syYhTZbITkM7",
        "colab_type": "text"
      },
      "source": [
        "Ahora creamos una funcion que evalue para un valor de k las dos métricas"
      ]
    },
    {
      "cell_type": "code",
      "metadata": {
        "id": "l6EIDC2NTkM-",
        "colab_type": "code",
        "colab": {}
      },
      "source": [
        "def evaluar_k_kmedias(k, medida, **kwargs):\n",
        "    if medida==\"inercia\":\n",
        "        funcion_medida = medida_inercia\n",
        "    elif medida==\"varianza\":\n",
        "        funcion_medida = medida_varianza\n",
        "        \n",
        "    estimador_kmedias = KMeans(random_state=42, n_clusters=k)\n",
        "    estimador_kmedias.fit(vehiculos_procesado)\n",
        "    return funcion_medida(estimador_kmedias, **kwargs)"
      ],
      "execution_count": 0,
      "outputs": []
    },
    {
      "cell_type": "code",
      "metadata": {
        "id": "wjEIWq2ATkNB",
        "colab_type": "code",
        "colab": {}
      },
      "source": [
        "resultados_k = {}\n",
        "rango_k = [5, 10, 20, 30, 50, 75, 100, 200, 300]\n",
        "for k in rango_k:\n",
        "    resultados_k[k] = evaluar_k_kmedias(k, \n",
        "                                \"inercia\"), evaluar_k_kmedias(k, \"varianza\", \n",
        "                                                              suma_varianza_total=suma_varianza_total)"
      ],
      "execution_count": 0,
      "outputs": []
    },
    {
      "cell_type": "code",
      "metadata": {
        "id": "5qKCvztYTkNC",
        "colab_type": "code",
        "colab": {},
        "outputId": "ddd625db-2c1b-48ba-d378-5ffd49ccc655"
      },
      "source": [
        "resultados_k"
      ],
      "execution_count": 0,
      "outputs": [
        {
          "output_type": "execute_result",
          "data": {
            "text/plain": [
              "{5: (77729.643520079582, 0.26013424726157475),\n",
              " 10: (61441.468050080861, 0.349126201108027),\n",
              " 20: (47828.707830132022, 0.4345648509663016),\n",
              " 30: (40733.674861743129, 0.48721972042842959),\n",
              " 50: (32800.136566839254, 0.54618830454655054),\n",
              " 75: (26138.193257520823, 0.6059933168425734),\n",
              " 100: (21305.481700194963, 0.65308446260109188),\n",
              " 200: (12128.55326541935, 0.7617891248667501),\n",
              " 300: (7790.8196674758537, 0.7617891248667501)}"
            ]
          },
          "metadata": {
            "tags": []
          },
          "execution_count": 162
        }
      ]
    },
    {
      "cell_type": "markdown",
      "metadata": {
        "id": "dPugW1hLTkNF",
        "colab_type": "text"
      },
      "source": [
        "Ahora hacemos una gráfica para ver donde está el \"codo\" de forma aproximada."
      ]
    },
    {
      "cell_type": "code",
      "metadata": {
        "id": "E_lvw7xMTkNG",
        "colab_type": "code",
        "colab": {},
        "outputId": "4646cde2-07c5-45a1-dcd1-ea73570c8131"
      },
      "source": [
        "fig, ax1 = plt.subplots()\n",
        "\n",
        "ax1.plot(\n",
        "    [c[0] for c in resultados_k.items()],\n",
        "    [c[1][0] for c in resultados_k.items()], label=\"inercia\", color=\"red\")\n",
        "ax1.set_ylabel('inercia')\n",
        "\n",
        "ax2 = ax1.twinx()\n",
        "ax2.plot(\n",
        "    [c[0] for c in resultados_k.items()],\n",
        "    [c[1][1] for c in resultados_k.items()], label=\"varianza\")\n",
        "ax2.set_ylabel('varianza explicada')\n",
        "\n",
        "plt.xlabel(\"K\")\n",
        "plt.legend()\n",
        "plt.title(\"Variación de inercia/varianza respecto a K\");"
      ],
      "execution_count": 0,
      "outputs": [
        {
          "output_type": "display_data",
          "data": {
            "image/png": "[encoded data removed]",
            "text/plain": [
              "<matplotlib.figure.Figure at 0x7f7a4bf0c128>"
            ]
          },
          "metadata": {
            "tags": []
          }
        }
      ]
    },
    {
      "cell_type": "markdown",
      "metadata": {
        "id": "LWHAJTUwTkNI",
        "colab_type": "text"
      },
      "source": [
        "Para este caso en concreto, un valor de K=100 o 150, podria ser una buena opción si no hubiese ningún otro requisito."
      ]
    },
    {
      "cell_type": "code",
      "metadata": {
        "id": "EQ-dgPBDTkNI",
        "colab_type": "code",
        "colab": {}
      },
      "source": [
        ""
      ],
      "execution_count": 0,
      "outputs": []
    }
  ]
}